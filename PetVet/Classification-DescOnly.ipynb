{
 "cells": [
  {
   "cell_type": "code",
   "execution_count": 2,
   "id": "b74c562c-65f3-4a12-9712-c10f13d1ce3f",
   "metadata": {},
   "outputs": [],
   "source": [
    "import pandas as pd\n",
    "import numpy as np\n",
    "import matplotlib.pyplot as plt\n",
    "import seaborn as sns\n",
    "from sqlalchemy.engine import URL\n",
    "from sqlalchemy import create_engine\n",
    "import pyodbc\n",
    "%matplotlib inline\n",
    "import pandas as pd\n",
    "import numpy as np\n",
    "from sklearn.feature_extraction.text import TfidfVectorizer\n",
    "from sklearn.linear_model import LogisticRegression\n",
    "from sklearn.pipeline import Pipeline\n",
    "from sklearn.model_selection import train_test_split, GridSearchCV\n",
    "from sklearn.metrics import classification_report, confusion_matrix\n",
    "import matplotlib.pyplot as plt\n",
    "import seaborn as sns"
   ]
  },
  {
   "cell_type": "code",
   "execution_count": 3,
   "id": "a83e2baa-d1f3-49c9-a483-8e44ded873d7",
   "metadata": {},
   "outputs": [],
   "source": [
    "server = 'DB06.petvetcarecenters.com' \n",
    "database = 'ReportingPV' \n",
    "username = 'PetVet_RW' \n",
    "password = 'p3tv3tc@r3c3nt3rs'  \n",
    "cnxn = pyodbc.connect('DRIVER={SQL Server};SERVER='+server+';DATABASE='+database+';UID='+username+';PWD='+ password)\n",
    "cursor = cnxn.cursor()"
   ]
  },
  {
   "cell_type": "code",
   "execution_count": 4,
   "id": "e085f5b3-4b5d-46b2-9477-40045613587f",
   "metadata": {},
   "outputs": [
    {
     "name": "stderr",
     "output_type": "stream",
     "text": [
      "C:\\Users\\qallegue\\AppData\\Local\\Temp\\ipykernel_4428\\2213194863.py:31: UserWarning: pandas only supports SQLAlchemy connectable (engine/connection) or database string URI or sqlite3 DBAPI2 connection. Other DBAPI2 objects are not tested. Please consider using SQLAlchemy.\n",
      "  df = pd.read_sql(query, conn)\n"
     ]
    }
   ],
   "source": [
    "server = 'DB04.petvetcarecenters.com' \n",
    "database = 'DWPV' \n",
    "username = 'PetVet_RW' \n",
    "password = 'p3tv3tc@r3c3nt3rs'  \n",
    "conn_str = (\n",
    "    'DRIVER={SQL Server};'\n",
    "    f'SERVER={server};'\n",
    "    f'DATABASE={database};'\n",
    "    f'UID={username};'\n",
    "    f'PWD={password}'\n",
    ")\n",
    "# Establish the connection\n",
    "conn = pyodbc.connect(conn_str)\n",
    "query = \"\"\"\n",
    "SELECT DISTINCT \n",
    "    s.Description SkuDescription,\n",
    "  dm.Name AS MasterClassification  --m.ChangeBy,\n",
    "  --m.ChangeDate   \n",
    "FROM (\n",
    "  SELECT *\n",
    "  FROM Configuration.SkuMapping\n",
    "  WHERE DropDownListId = 8\n",
    ") m\n",
    "JOIN Accounting.SkuV2 s\n",
    "  ON s.Location_ID = m.Location_ID\n",
    "  AND s.Sku = m.Sku\n",
    "JOIN Reference.DropdownListMember dm\n",
    "  ON dm.DropdownListMemberId = m.DropdownListMemberId\n",
    "\"\"\"\n",
    "# Execute the query and load the data into a DataFrame\n",
    "df = pd.read_sql(query, conn)\n",
    "\n",
    "\n",
    "# Close the connection\n",
    "conn.close()\n"
   ]
  },
  {
   "cell_type": "code",
   "execution_count": 5,
   "id": "61c76c6d-f643-4e8e-b81e-1dfe0189ec98",
   "metadata": {},
   "outputs": [],
   "source": [
    "train = df"
   ]
  },
  {
   "cell_type": "code",
   "execution_count": 6,
   "id": "23874a41-4d3c-43ed-9baa-84bc5ab23b87",
   "metadata": {},
   "outputs": [
    {
     "data": {
      "text/html": [
       "<div>\n",
       "<style scoped>\n",
       "    .dataframe tbody tr th:only-of-type {\n",
       "        vertical-align: middle;\n",
       "    }\n",
       "\n",
       "    .dataframe tbody tr th {\n",
       "        vertical-align: top;\n",
       "    }\n",
       "\n",
       "    .dataframe thead th {\n",
       "        text-align: right;\n",
       "    }\n",
       "</style>\n",
       "<table border=\"1\" class=\"dataframe\">\n",
       "  <thead>\n",
       "    <tr style=\"text-align: right;\">\n",
       "      <th></th>\n",
       "      <th>SkuDescription</th>\n",
       "      <th>MasterClassification</th>\n",
       "    </tr>\n",
       "  </thead>\n",
       "  <tbody>\n",
       "    <tr>\n",
       "      <th>0</th>\n",
       "      <td>$20.00 off Simparica Trio 6ct Exp 12/31</td>\n",
       "      <td>Preventative</td>\n",
       "    </tr>\n",
       "    <tr>\n",
       "      <th>1</th>\n",
       "      <td>$25 First-Time Visit Offer</td>\n",
       "      <td>Exam</td>\n",
       "    </tr>\n",
       "    <tr>\n",
       "      <th>2</th>\n",
       "      <td>$25 New Pet/Client Exam</td>\n",
       "      <td>Exam</td>\n",
       "    </tr>\n",
       "    <tr>\n",
       "      <th>3</th>\n",
       "      <td>(b) 61-90mins</td>\n",
       "      <td>Anesthesia</td>\n",
       "    </tr>\n",
       "    <tr>\n",
       "      <th>4</th>\n",
       "      <td>(BR2LT) Bravecto $15 Instant Rebate 2 doses</td>\n",
       "      <td>Preventative</td>\n",
       "    </tr>\n",
       "  </tbody>\n",
       "</table>\n",
       "</div>"
      ],
      "text/plain": [
       "                                SkuDescription MasterClassification\n",
       "0      $20.00 off Simparica Trio 6ct Exp 12/31         Preventative\n",
       "1                   $25 First-Time Visit Offer                 Exam\n",
       "2                      $25 New Pet/Client Exam                 Exam\n",
       "3                                (b) 61-90mins           Anesthesia\n",
       "4  (BR2LT) Bravecto $15 Instant Rebate 2 doses         Preventative"
      ]
     },
     "execution_count": 6,
     "metadata": {},
     "output_type": "execute_result"
    }
   ],
   "source": [
    "train.head()"
   ]
  },
  {
   "cell_type": "code",
   "execution_count": 7,
   "id": "92445cbd-16c2-446d-8489-ac157471a0e5",
   "metadata": {},
   "outputs": [],
   "source": [
    "train.dropna(subset=['SkuDescription'], inplace= True) # Prefiction relies on SkuDescription"
   ]
  },
  {
   "cell_type": "code",
   "execution_count": 8,
   "id": "16017f93-34ce-4b19-844a-b7032dafd1aa",
   "metadata": {},
   "outputs": [
    {
     "data": {
      "text/plain": [
       "<Axes: >"
      ]
     },
     "execution_count": 8,
     "metadata": {},
     "output_type": "execute_result"
    },
    {
     "data": {
      "image/png": "[encoded data removed]",
      "text/plain": [
       "<Figure size 640x480 with 1 Axes>"
      ]
     },
     "metadata": {},
     "output_type": "display_data"
    }
   ],
   "source": [
    "## No more missing data\n",
    "sns.heatmap(train.isnull(), yticklabels = False, cbar = False, cmap = \"viridis\")"
   ]
  },
  {
   "cell_type": "code",
   "execution_count": 100,
   "id": "c0e01500-6745-4e66-bc35-67995c14b0e5",
   "metadata": {
    "scrolled": true
   },
   "outputs": [
    {
     "name": "stdout",
     "output_type": "stream",
     "text": [
      "Collecting nltk\n",
      "  Downloading nltk-3.9.1-py3-none-any.whl.metadata (2.9 kB)\n",
      "Requirement already satisfied: click in c:\\users\\qallegue\\anaconda3\\envs\\llms\\lib\\site-packages (from nltk) (8.1.8)\n",
      "Requirement already satisfied: joblib in c:\\users\\qallegue\\anaconda3\\envs\\llms\\lib\\site-packages (from nltk) (1.4.2)\n",
      "Requirement already satisfied: regex>=2021.8.3 in c:\\users\\qallegue\\anaconda3\\envs\\llms\\lib\\site-packages (from nltk) (2024.11.6)\n",
      "Requirement already satisfied: tqdm in c:\\users\\qallegue\\anaconda3\\envs\\llms\\lib\\site-packages (from nltk) (4.67.1)\n",
      "Requirement already satisfied: colorama in c:\\users\\qallegue\\anaconda3\\envs\\llms\\lib\\site-packages (from click->nltk) (0.4.6)\n",
      "Downloading nltk-3.9.1-py3-none-any.whl (1.5 MB)\n",
      "   ---------------------------------------- 0.0/1.5 MB ? eta -:--:--\n",
      "   ---------------------------------------- 1.5/1.5 MB 11.3 MB/s eta 0:00:00\n",
      "Installing collected packages: nltk\n",
      "Successfully installed nltk-3.9.1\n",
      "Note: you may need to restart the kernel to use updated packages.\n"
     ]
    }
   ],
   "source": [
    "pip install nltk"
   ]
  },
  {
   "cell_type": "code",
   "execution_count": 9,
   "id": "d463b441-6f84-4626-b141-9cb719907ea4",
   "metadata": {},
   "outputs": [],
   "source": [
    "import nltk"
   ]
  },
  {
   "cell_type": "code",
   "execution_count": 10,
   "id": "a42de6aa-8c13-422b-ba1a-7caefb2de0db",
   "metadata": {},
   "outputs": [
    {
     "name": "stdout",
     "output_type": "stream",
     "text": [
      "NLTK Downloader\n",
      "---------------------------------------------------------------------------\n",
      "    d) Download   l) List    u) Update   c) Config   h) Help   q) Quit\n",
      "---------------------------------------------------------------------------\n"
     ]
    },
    {
     "name": "stdin",
     "output_type": "stream",
     "text": [
      "Downloader>  d\n"
     ]
    },
    {
     "name": "stdout",
     "output_type": "stream",
     "text": [
      "\n",
      "Download which package (l=list; x=cancel)?\n"
     ]
    },
    {
     "name": "stdin",
     "output_type": "stream",
     "text": [
      "  Identifier>  stopwords\n"
     ]
    },
    {
     "name": "stderr",
     "output_type": "stream",
     "text": [
      "    Downloading package stopwords to\n",
      "        C:\\Users\\qallegue\\AppData\\Roaming\\nltk_data...\n",
      "      Package stopwords is already up-to-date!\n"
     ]
    },
    {
     "name": "stdout",
     "output_type": "stream",
     "text": [
      "\n",
      "---------------------------------------------------------------------------\n",
      "    d) Download   l) List    u) Update   c) Config   h) Help   q) Quit\n",
      "---------------------------------------------------------------------------\n"
     ]
    },
    {
     "name": "stdin",
     "output_type": "stream",
     "text": [
      "Downloader>  q\n"
     ]
    }
   ],
   "source": [
    "nltk.download_shell()"
   ]
  },
  {
   "cell_type": "code",
   "execution_count": 11,
   "id": "5e3798dd-bb01-4f90-ba3f-f62fe39c75ce",
   "metadata": {},
   "outputs": [],
   "source": [
    "desc = [line.strip() for line in train['SkuDescription']]"
   ]
  },
  {
   "cell_type": "code",
   "execution_count": 13,
   "id": "3ba23d70-a6a0-4191-980e-becb01ed29e9",
   "metadata": {},
   "outputs": [
    {
     "data": {
      "text/html": [
       "<div>\n",
       "<style scoped>\n",
       "    .dataframe tbody tr th:only-of-type {\n",
       "        vertical-align: middle;\n",
       "    }\n",
       "\n",
       "    .dataframe tbody tr th {\n",
       "        vertical-align: top;\n",
       "    }\n",
       "\n",
       "    .dataframe thead th {\n",
       "        text-align: right;\n",
       "    }\n",
       "</style>\n",
       "<table border=\"1\" class=\"dataframe\">\n",
       "  <thead>\n",
       "    <tr style=\"text-align: right;\">\n",
       "      <th></th>\n",
       "      <th>SkuDescription</th>\n",
       "      <th>MasterClassification</th>\n",
       "    </tr>\n",
       "  </thead>\n",
       "  <tbody>\n",
       "    <tr>\n",
       "      <th>count</th>\n",
       "      <td>31831</td>\n",
       "      <td>31831</td>\n",
       "    </tr>\n",
       "    <tr>\n",
       "      <th>unique</th>\n",
       "      <td>31775</td>\n",
       "      <td>26</td>\n",
       "    </tr>\n",
       "    <tr>\n",
       "      <th>top</th>\n",
       "      <td>Fine Needle Aspirate</td>\n",
       "      <td>Preventative</td>\n",
       "    </tr>\n",
       "    <tr>\n",
       "      <th>freq</th>\n",
       "      <td>3</td>\n",
       "      <td>11806</td>\n",
       "    </tr>\n",
       "  </tbody>\n",
       "</table>\n",
       "</div>"
      ],
      "text/plain": [
       "              SkuDescription MasterClassification\n",
       "count                  31831                31831\n",
       "unique                 31775                   26\n",
       "top     Fine Needle Aspirate         Preventative\n",
       "freq                       3                11806"
      ]
     },
     "execution_count": 13,
     "metadata": {},
     "output_type": "execute_result"
    }
   ],
   "source": [
    "train.describe()"
   ]
  },
  {
   "cell_type": "code",
   "execution_count": 14,
   "id": "dc464576-e001-4602-916b-fe8fb5161d65",
   "metadata": {},
   "outputs": [
    {
     "data": {
      "text/html": [
       "<div>\n",
       "<style scoped>\n",
       "    .dataframe tbody tr th:only-of-type {\n",
       "        vertical-align: middle;\n",
       "    }\n",
       "\n",
       "    .dataframe tbody tr th {\n",
       "        vertical-align: top;\n",
       "    }\n",
       "\n",
       "    .dataframe thead tr th {\n",
       "        text-align: left;\n",
       "    }\n",
       "\n",
       "    .dataframe thead tr:last-of-type th {\n",
       "        text-align: right;\n",
       "    }\n",
       "</style>\n",
       "<table border=\"1\" class=\"dataframe\">\n",
       "  <thead>\n",
       "    <tr>\n",
       "      <th></th>\n",
       "      <th colspan=\"4\" halign=\"left\">SkuDescription</th>\n",
       "    </tr>\n",
       "    <tr>\n",
       "      <th></th>\n",
       "      <th>count</th>\n",
       "      <th>unique</th>\n",
       "      <th>top</th>\n",
       "      <th>freq</th>\n",
       "    </tr>\n",
       "    <tr>\n",
       "      <th>MasterClassification</th>\n",
       "      <th></th>\n",
       "      <th></th>\n",
       "      <th></th>\n",
       "      <th></th>\n",
       "    </tr>\n",
       "  </thead>\n",
       "  <tbody>\n",
       "    <tr>\n",
       "      <th>Anesthesia</th>\n",
       "      <td>898</td>\n",
       "      <td>898</td>\n",
       "      <td>(b) 61-90mins</td>\n",
       "      <td>1</td>\n",
       "    </tr>\n",
       "    <tr>\n",
       "      <th>Boarding-Grooming</th>\n",
       "      <td>796</td>\n",
       "      <td>796</td>\n",
       "      <td>ABBEY GROOM</td>\n",
       "      <td>1</td>\n",
       "    </tr>\n",
       "    <tr>\n",
       "      <th>Cremation</th>\n",
       "      <td>543</td>\n",
       "      <td>543</td>\n",
       "      <td>AMS-ROSEWOOD URN 10-39#</td>\n",
       "      <td>1</td>\n",
       "    </tr>\n",
       "    <tr>\n",
       "      <th>Dentistry</th>\n",
       "      <td>915</td>\n",
       "      <td>915</td>\n",
       "      <td>[Feline Dental Grade 2 Package</td>\n",
       "      <td>1</td>\n",
       "    </tr>\n",
       "    <tr>\n",
       "      <th>Disc-Coup-Promo-Refund</th>\n",
       "      <td>1</td>\n",
       "      <td>1</td>\n",
       "      <td>$25.00 off First Exam</td>\n",
       "      <td>1</td>\n",
       "    </tr>\n",
       "    <tr>\n",
       "      <th>Euthanasia</th>\n",
       "      <td>289</td>\n",
       "      <td>289</td>\n",
       "      <td>1 Euthanasia - BUNDLE</td>\n",
       "      <td>1</td>\n",
       "    </tr>\n",
       "    <tr>\n",
       "      <th>Exam</th>\n",
       "      <td>1500</td>\n",
       "      <td>1500</td>\n",
       "      <td>$25 First-Time Visit Offer</td>\n",
       "      <td>1</td>\n",
       "    </tr>\n",
       "    <tr>\n",
       "      <th>Farm Call</th>\n",
       "      <td>23</td>\n",
       "      <td>23</td>\n",
       "      <td>Emergency Call (8AM-6PM)</td>\n",
       "      <td>1</td>\n",
       "    </tr>\n",
       "    <tr>\n",
       "      <th>Food</th>\n",
       "      <td>121</td>\n",
       "      <td>121</td>\n",
       "      <td>10044 C Metabolic+Mobility 24#</td>\n",
       "      <td>1</td>\n",
       "    </tr>\n",
       "    <tr>\n",
       "      <th>Hospitalization</th>\n",
       "      <td>734</td>\n",
       "      <td>734</td>\n",
       "      <td>30mg Vial (CAD Immunotherapeutic)</td>\n",
       "      <td>1</td>\n",
       "    </tr>\n",
       "    <tr>\n",
       "      <th>Injection</th>\n",
       "      <td>1983</td>\n",
       "      <td>1983</td>\n",
       "      <td>40mg Vial (CAD Immunotherapeutic)</td>\n",
       "      <td>1</td>\n",
       "    </tr>\n",
       "    <tr>\n",
       "      <th>Lab</th>\n",
       "      <td>1154</td>\n",
       "      <td>1154</td>\n",
       "      <td>8659999 SENIOR SCREEN -SICK</td>\n",
       "      <td>1</td>\n",
       "    </tr>\n",
       "    <tr>\n",
       "      <th>Lab-Inside</th>\n",
       "      <td>1088</td>\n",
       "      <td>1088</td>\n",
       "      <td>4Dx Plus Snap Test</td>\n",
       "      <td>1</td>\n",
       "    </tr>\n",
       "    <tr>\n",
       "      <th>Lab-Outside</th>\n",
       "      <td>2042</td>\n",
       "      <td>2042</td>\n",
       "      <td>2801 Idexx Cytology 1 Site</td>\n",
       "      <td>1</td>\n",
       "    </tr>\n",
       "    <tr>\n",
       "      <th>Medical-Waste</th>\n",
       "      <td>180</td>\n",
       "      <td>180</td>\n",
       "      <td>Biohazard Disposal Fee</td>\n",
       "      <td>1</td>\n",
       "    </tr>\n",
       "    <tr>\n",
       "      <th>Medication</th>\n",
       "      <td>1990</td>\n",
       "      <td>1990</td>\n",
       "      <td>Administer Claro Ear Treatment - Per Ear</td>\n",
       "      <td>1</td>\n",
       "    </tr>\n",
       "    <tr>\n",
       "      <th>OTC</th>\n",
       "      <td>59</td>\n",
       "      <td>59</td>\n",
       "      <td>Advita Probiotics 30ct Canine</td>\n",
       "      <td>1</td>\n",
       "    </tr>\n",
       "    <tr>\n",
       "      <th>Preventative</th>\n",
       "      <td>11806</td>\n",
       "      <td>11806</td>\n",
       "      <td>$20.00 off Simparica Trio 6ct Exp 12/31</td>\n",
       "      <td>1</td>\n",
       "    </tr>\n",
       "    <tr>\n",
       "      <th>Procedure</th>\n",
       "      <td>616</td>\n",
       "      <td>616</td>\n",
       "      <td>A/G Expression - Tech</td>\n",
       "      <td>1</td>\n",
       "    </tr>\n",
       "    <tr>\n",
       "      <th>Radiology</th>\n",
       "      <td>1042</td>\n",
       "      <td>1042</td>\n",
       "      <td>3 X-Ray view without Rad.Consultation</td>\n",
       "      <td>1</td>\n",
       "    </tr>\n",
       "    <tr>\n",
       "      <th>Spay-Neuter</th>\n",
       "      <td>697</td>\n",
       "      <td>697</td>\n",
       "      <td>Alter:canine   &lt;45</td>\n",
       "      <td>1</td>\n",
       "    </tr>\n",
       "    <tr>\n",
       "      <th>Surgery</th>\n",
       "      <td>602</td>\n",
       "      <td>602</td>\n",
       "      <td>*Cranial Cruciate Surgery ( over 50 # )</td>\n",
       "      <td>1</td>\n",
       "    </tr>\n",
       "    <tr>\n",
       "      <th>Ultrasound-Imaging</th>\n",
       "      <td>176</td>\n",
       "      <td>176</td>\n",
       "      <td>Abdom Ultrasound Companion Insight</td>\n",
       "      <td>1</td>\n",
       "    </tr>\n",
       "    <tr>\n",
       "      <th>Unspecified</th>\n",
       "      <td>105</td>\n",
       "      <td>105</td>\n",
       "      <td>*WRITE IN  RX - LABEL PRINT/ADD TO RXS</td>\n",
       "      <td>1</td>\n",
       "    </tr>\n",
       "    <tr>\n",
       "      <th>Vaccine</th>\n",
       "      <td>2368</td>\n",
       "      <td>2368</td>\n",
       "      <td>1 Year Kennel Cough Vaccination</td>\n",
       "      <td>1</td>\n",
       "    </tr>\n",
       "    <tr>\n",
       "      <th>Well Plans and Packages</th>\n",
       "      <td>103</td>\n",
       "      <td>103</td>\n",
       "      <td>*Puppy Package 3 (1st Visit)</td>\n",
       "      <td>1</td>\n",
       "    </tr>\n",
       "  </tbody>\n",
       "</table>\n",
       "</div>"
      ],
      "text/plain": [
       "                        SkuDescription         \\\n",
       "                                 count unique   \n",
       "MasterClassification                            \n",
       "Anesthesia                         898    898   \n",
       "Boarding-Grooming                  796    796   \n",
       "Cremation                          543    543   \n",
       "Dentistry                          915    915   \n",
       "Disc-Coup-Promo-Refund               1      1   \n",
       "Euthanasia                         289    289   \n",
       "Exam                              1500   1500   \n",
       "Farm Call                           23     23   \n",
       "Food                               121    121   \n",
       "Hospitalization                    734    734   \n",
       "Injection                         1983   1983   \n",
       "Lab                               1154   1154   \n",
       "Lab-Inside                        1088   1088   \n",
       "Lab-Outside                       2042   2042   \n",
       "Medical-Waste                      180    180   \n",
       "Medication                        1990   1990   \n",
       "OTC                                 59     59   \n",
       "Preventative                     11806  11806   \n",
       "Procedure                          616    616   \n",
       "Radiology                         1042   1042   \n",
       "Spay-Neuter                        697    697   \n",
       "Surgery                            602    602   \n",
       "Ultrasound-Imaging                 176    176   \n",
       "Unspecified                        105    105   \n",
       "Vaccine                           2368   2368   \n",
       "Well Plans and Packages            103    103   \n",
       "\n",
       "                                                                        \n",
       "                                                              top freq  \n",
       "MasterClassification                                                    \n",
       "Anesthesia                                          (b) 61-90mins    1  \n",
       "Boarding-Grooming                                     ABBEY GROOM    1  \n",
       "Cremation                                 AMS-ROSEWOOD URN 10-39#    1  \n",
       "Dentistry                          [Feline Dental Grade 2 Package    1  \n",
       "Disc-Coup-Promo-Refund                     $25.00 off First Exam     1  \n",
       "Euthanasia                                  1 Euthanasia - BUNDLE    1  \n",
       "Exam                                   $25 First-Time Visit Offer    1  \n",
       "Farm Call                                Emergency Call (8AM-6PM)    1  \n",
       "Food                               10044 C Metabolic+Mobility 24#    1  \n",
       "Hospitalization                 30mg Vial (CAD Immunotherapeutic)    1  \n",
       "Injection                       40mg Vial (CAD Immunotherapeutic)    1  \n",
       "Lab                                   8659999 SENIOR SCREEN -SICK    1  \n",
       "Lab-Inside                                    4Dx Plus Snap Test     1  \n",
       "Lab-Outside                            2801 Idexx Cytology 1 Site    1  \n",
       "Medical-Waste                              Biohazard Disposal Fee    1  \n",
       "Medication               Administer Claro Ear Treatment - Per Ear    1  \n",
       "OTC                                 Advita Probiotics 30ct Canine    1  \n",
       "Preventative              $20.00 off Simparica Trio 6ct Exp 12/31    1  \n",
       "Procedure                                   A/G Expression - Tech    1  \n",
       "Radiology                   3 X-Ray view without Rad.Consultation    1  \n",
       "Spay-Neuter                                    Alter:canine   <45    1  \n",
       "Surgery                   *Cranial Cruciate Surgery ( over 50 # )    1  \n",
       "Ultrasound-Imaging             Abdom Ultrasound Companion Insight    1  \n",
       "Unspecified                *WRITE IN  RX - LABEL PRINT/ADD TO RXS    1  \n",
       "Vaccine                           1 Year Kennel Cough Vaccination    1  \n",
       "Well Plans and Packages              *Puppy Package 3 (1st Visit)    1  "
      ]
     },
     "execution_count": 14,
     "metadata": {},
     "output_type": "execute_result"
    }
   ],
   "source": [
    "train.groupby('MasterClassification').describe()"
   ]
  },
  {
   "cell_type": "code",
   "execution_count": 15,
   "id": "1c255595-b77a-48dc-8580-878888fdb0b8",
   "metadata": {},
   "outputs": [],
   "source": [
    "train['length'] = train['SkuDescription'].apply(len)"
   ]
  },
  {
   "cell_type": "code",
   "execution_count": 17,
   "id": "657a7d69-76ed-45dc-baa0-d9d8df4af642",
   "metadata": {},
   "outputs": [],
   "source": [
    "import matplotlib.pyplot as plt\n",
    "import seaborn as sns"
   ]
  },
  {
   "cell_type": "code",
   "execution_count": 18,
   "id": "c2fa1811-8bae-4ff8-a2f6-e090c722bc7c",
   "metadata": {},
   "outputs": [],
   "source": [
    "%matplotlib inline"
   ]
  },
  {
   "cell_type": "code",
   "execution_count": 22,
   "id": "c7c594f9-ef0b-4fd8-b558-4c090172f617",
   "metadata": {},
   "outputs": [
    {
     "data": {
      "text/plain": [
       "<Axes: ylabel='Frequency'>"
      ]
     },
     "execution_count": 22,
     "metadata": {},
     "output_type": "execute_result"
    },
    {
     "data": {
      "image/png": "[encoded data removed]",
      "text/plain": [
       "<Figure size 640x480 with 1 Axes>"
      ]
     },
     "metadata": {},
     "output_type": "display_data"
    }
   ],
   "source": [
    "train['length'].plot.hist(bins=10)"
   ]
  },
  {
   "cell_type": "code",
   "execution_count": 25,
   "id": "1809aa27-df72-4d98-b938-04245fe4b90d",
   "metadata": {},
   "outputs": [
    {
     "data": {
      "text/plain": [
       "array([[<Axes: title={'center': 'Anesthesia'}>,\n",
       "        <Axes: title={'center': 'Boarding-Grooming'}>,\n",
       "        <Axes: title={'center': 'Cremation'}>,\n",
       "        <Axes: title={'center': 'Dentistry'}>,\n",
       "        <Axes: title={'center': 'Disc-Coup-Promo-Refund'}>],\n",
       "       [<Axes: title={'center': 'Euthanasia'}>,\n",
       "        <Axes: title={'center': 'Exam'}>,\n",
       "        <Axes: title={'center': 'Farm Call'}>,\n",
       "        <Axes: title={'center': 'Food'}>,\n",
       "        <Axes: title={'center': 'Hospitalization'}>],\n",
       "       [<Axes: title={'center': 'Injection'}>,\n",
       "        <Axes: title={'center': 'Lab'}>,\n",
       "        <Axes: title={'center': 'Lab-Inside'}>,\n",
       "        <Axes: title={'center': 'Lab-Outside'}>,\n",
       "        <Axes: title={'center': 'Medical-Waste'}>],\n",
       "       [<Axes: title={'center': 'Medication'}>,\n",
       "        <Axes: title={'center': 'OTC'}>,\n",
       "        <Axes: title={'center': 'Preventative'}>,\n",
       "        <Axes: title={'center': 'Procedure'}>,\n",
       "        <Axes: title={'center': 'Radiology'}>],\n",
       "       [<Axes: title={'center': 'Spay-Neuter'}>,\n",
       "        <Axes: title={'center': 'Surgery'}>,\n",
       "        <Axes: title={'center': 'Ultrasound-Imaging'}>,\n",
       "        <Axes: title={'center': 'Unspecified'}>,\n",
       "        <Axes: title={'center': 'Vaccine'}>],\n",
       "       [<Axes: title={'center': 'Well Plans and Packages'}>, <Axes: >,\n",
       "        <Axes: >, <Axes: >, <Axes: >]], dtype=object)"
      ]
     },
     "execution_count": 25,
     "metadata": {},
     "output_type": "execute_result"
    },
    {
     "data": {
      "image/png": "[encoded data removed]",
      "text/plain": [
       "<Figure size 5000x2000 with 30 Axes>"
      ]
     },
     "metadata": {},
     "output_type": "display_data"
    }
   ],
   "source": [
    "train.hist(column = 'length', by = 'MasterClassification', bins = 60, figsize=(50, 20))"
   ]
  },
  {
   "cell_type": "code",
   "execution_count": 26,
   "id": "61c74063-eb19-4a6f-84ad-92333da3f771",
   "metadata": {},
   "outputs": [],
   "source": [
    "import string"
   ]
  },
  {
   "cell_type": "code",
   "execution_count": 29,
   "id": "ff8d991e-4890-4a8c-a999-cca04bf80661",
   "metadata": {},
   "outputs": [],
   "source": [
    "from nltk.corpus import stopwords"
   ]
  },
  {
   "cell_type": "code",
   "execution_count": 31,
   "id": "e50fef0f-0d14-4764-a838-67295d554725",
   "metadata": {
    "scrolled": true
   },
   "outputs": [],
   "source": [
    "def text_process(text):\n",
    "    nopunc = [char for char in text if char not in string.punctuation]\n",
    "\n",
    "    nopunc = ''.join(nopunc)\n",
    "\n",
    "    return [word for word in nopunc.split() if word.lower() not in stopwords.words('english')]"
   ]
  },
  {
   "cell_type": "code",
   "execution_count": 32,
   "id": "212a0d4c-735f-4cb4-81fe-dc8d01bac633",
   "metadata": {},
   "outputs": [
    {
     "data": {
      "text/html": [
       "<div>\n",
       "<style scoped>\n",
       "    .dataframe tbody tr th:only-of-type {\n",
       "        vertical-align: middle;\n",
       "    }\n",
       "\n",
       "    .dataframe tbody tr th {\n",
       "        vertical-align: top;\n",
       "    }\n",
       "\n",
       "    .dataframe thead th {\n",
       "        text-align: right;\n",
       "    }\n",
       "</style>\n",
       "<table border=\"1\" class=\"dataframe\">\n",
       "  <thead>\n",
       "    <tr style=\"text-align: right;\">\n",
       "      <th></th>\n",
       "      <th>SkuDescription</th>\n",
       "      <th>MasterClassification</th>\n",
       "      <th>length</th>\n",
       "    </tr>\n",
       "  </thead>\n",
       "  <tbody>\n",
       "    <tr>\n",
       "      <th>0</th>\n",
       "      <td>$20.00 off Simparica Trio 6ct Exp 12/31</td>\n",
       "      <td>Preventative</td>\n",
       "      <td>39</td>\n",
       "    </tr>\n",
       "    <tr>\n",
       "      <th>1</th>\n",
       "      <td>$25 First-Time Visit Offer</td>\n",
       "      <td>Exam</td>\n",
       "      <td>26</td>\n",
       "    </tr>\n",
       "    <tr>\n",
       "      <th>2</th>\n",
       "      <td>$25 New Pet/Client Exam</td>\n",
       "      <td>Exam</td>\n",
       "      <td>23</td>\n",
       "    </tr>\n",
       "    <tr>\n",
       "      <th>3</th>\n",
       "      <td>(b) 61-90mins</td>\n",
       "      <td>Anesthesia</td>\n",
       "      <td>13</td>\n",
       "    </tr>\n",
       "    <tr>\n",
       "      <th>4</th>\n",
       "      <td>(BR2LT) Bravecto $15 Instant Rebate 2 doses</td>\n",
       "      <td>Preventative</td>\n",
       "      <td>43</td>\n",
       "    </tr>\n",
       "  </tbody>\n",
       "</table>\n",
       "</div>"
      ],
      "text/plain": [
       "                                SkuDescription MasterClassification  length\n",
       "0      $20.00 off Simparica Trio 6ct Exp 12/31         Preventative      39\n",
       "1                   $25 First-Time Visit Offer                 Exam      26\n",
       "2                      $25 New Pet/Client Exam                 Exam      23\n",
       "3                                (b) 61-90mins           Anesthesia      13\n",
       "4  (BR2LT) Bravecto $15 Instant Rebate 2 doses         Preventative      43"
      ]
     },
     "execution_count": 32,
     "metadata": {},
     "output_type": "execute_result"
    }
   ],
   "source": [
    "train.head()"
   ]
  },
  {
   "cell_type": "code",
   "execution_count": 34,
   "id": "0f9ad9ca-0027-4daf-adac-d5bc08617aec",
   "metadata": {},
   "outputs": [
    {
     "data": {
      "text/plain": [
       "0             [2000, Simparica, Trio, 6ct, Exp, 1231]\n",
       "1                       [25, FirstTime, Visit, Offer]\n",
       "2                          [25, New, PetClient, Exam]\n",
       "3                                       [b, 6190mins]\n",
       "4    [BR2LT, Bravecto, 15, Instant, Rebate, 2, doses]\n",
       "Name: SkuDescription, dtype: object"
      ]
     },
     "execution_count": 34,
     "metadata": {},
     "output_type": "execute_result"
    }
   ],
   "source": [
    "train['SkuDescription'].head(5).apply(text_process)"
   ]
  },
  {
   "cell_type": "markdown",
   "id": "037811b2-72fe-40e3-85c5-9310ba3a23d4",
   "metadata": {},
   "source": [
    "## Vectorization\n",
    "### CountVectorizer: a 2D matrix where \n",
    "- the first dimension is the entire vocabulary (i.e. 1 col per word);\n",
    "- the second dimension is the actual documents (i.e. 1 row per sku descripition)\n",
    "- output: sparse matrix:\n",
    "  - (rownum, colnum)    wordcount\n",
    "  - see print(desc_bow)"
   ]
  },
  {
   "cell_type": "code",
   "execution_count": 108,
   "id": "4abb8bfe-4d71-49da-a23f-81e20f549dfc",
   "metadata": {},
   "outputs": [],
   "source": [
    "train = train[train['MasterClassification'] !='Disc-Coup-Promo-Refund']"
   ]
  },
  {
   "cell_type": "code",
   "execution_count": 36,
   "id": "a14fe808-3c62-40ad-8723-04cd96fe8f4a",
   "metadata": {},
   "outputs": [],
   "source": [
    "from sklearn.feature_extraction.text import CountVectorizer"
   ]
  },
  {
   "cell_type": "code",
   "execution_count": 160,
   "id": "83858840-ac48-43f6-aa6d-c2db1302bcdd",
   "metadata": {},
   "outputs": [],
   "source": [
    "bow_transformer = CountVectorizer(analyzer=text_process).fit(train['SkuDescription'])"
   ]
  },
  {
   "cell_type": "code",
   "execution_count": 161,
   "id": "3e27c5d1-c705-4ef3-9987-1dc5d1b31c77",
   "metadata": {},
   "outputs": [
    {
     "name": "stdout",
     "output_type": "stream",
     "text": [
      "11548\n"
     ]
    }
   ],
   "source": [
    "print(len(bow_transformer.vocabulary_))"
   ]
  },
  {
   "cell_type": "code",
   "execution_count": 162,
   "id": "2e3b1bcd-3342-49ae-8fb4-2e7a29bdc035",
   "metadata": {},
   "outputs": [
    {
     "name": "stdout",
     "output_type": "stream",
     "text": [
      "Anesthesia Isoflurane Dental 51-99\n"
     ]
    }
   ],
   "source": [
    "print(train['SkuDescription'][2000])"
   ]
  },
  {
   "cell_type": "code",
   "execution_count": 163,
   "id": "d2a4b086-3583-415b-adc9-4db1760f65af",
   "metadata": {},
   "outputs": [],
   "source": [
    "eg = bow_transformer.transform([train['SkuDescription'][2000]])"
   ]
  },
  {
   "cell_type": "code",
   "execution_count": 164,
   "id": "887d472a-99de-4df3-8ab2-025335935625",
   "metadata": {},
   "outputs": [
    {
     "name": "stdout",
     "output_type": "stream",
     "text": [
      "(1, 11548)\n",
      "  (0, 2045)\t1\n",
      "  (0, 3095)\t1\n",
      "  (0, 4732)\t1\n",
      "  (0, 6434)\t1\n"
     ]
    }
   ],
   "source": [
    "print(eg.shape)\n",
    "print(eg)"
   ]
  },
  {
   "cell_type": "code",
   "execution_count": 195,
   "id": "28c9f6c8-4cee-4964-8aa3-339c24805503",
   "metadata": {},
   "outputs": [
    {
     "data": {
      "text/plain": [
       "'Dental'"
      ]
     },
     "execution_count": 195,
     "metadata": {},
     "output_type": "execute_result"
    }
   ],
   "source": [
    "bow_transformer.get_feature_names_out()[4732]"
   ]
  },
  {
   "cell_type": "code",
   "execution_count": 166,
   "id": "0a1d372d-b60a-4d0a-b738-3ed5e8aaa798",
   "metadata": {},
   "outputs": [],
   "source": [
    "desc_bow = bow_transformer.transform(train['SkuDescription'])"
   ]
  },
  {
   "cell_type": "code",
   "execution_count": 215,
   "id": "c6100368-b0dc-4755-a447-389abececb8c",
   "metadata": {
    "scrolled": true
   },
   "outputs": [
    {
     "name": "stdout",
     "output_type": "stream",
     "text": [
      "  (0, 437)\t1\n",
      "  (0, 828)\t1\n",
      "  (0, 2407)\t1\n",
      "  (0, 5296)\t1\n",
      "  (0, 8956)\t1\n",
      "  (0, 9553)\t1\n",
      "  (1, 1073)\t1\n",
      "  (1, 5577)\t1\n",
      "  (1, 7346)\t1\n",
      "  (1, 9852)\t1\n",
      "  (2, 1073)\t1\n",
      "  (2, 5234)\t1\n",
      "  (2, 7199)\t1\n",
      "  (2, 7799)\t1\n",
      "  (3, 2300)\t1\n",
      "  (3, 10255)\t1\n",
      "  (4, 593)\t1\n",
      "  (4, 825)\t1\n",
      "  (4, 3306)\t1\n",
      "  (4, 3507)\t1\n",
      "  (4, 6375)\t1\n",
      "  (4, 8327)\t1\n",
      "  (4, 10457)\t1\n",
      "  (5, 593)\t1\n",
      "  (5, 2434)\t1\n",
      "  :\t:\n",
      "  (31823, 10171)\t1\n",
      "  (31824, 674)\t1\n",
      "  (31824, 11527)\t1\n",
      "  (31825, 10249)\t1\n",
      "  (31825, 11533)\t1\n",
      "  (31826, 2101)\t1\n",
      "  (31826, 2185)\t1\n",
      "  (31826, 7846)\t1\n",
      "  (31826, 10172)\t1\n",
      "  (31826, 10285)\t1\n",
      "  (31827, 172)\t1\n",
      "  (31827, 4599)\t1\n",
      "  (31827, 9646)\t1\n",
      "  (31827, 10097)\t1\n",
      "  (31827, 11534)\t1\n",
      "  (31828, 1019)\t1\n",
      "  (31828, 7801)\t1\n",
      "  (31828, 11138)\t1\n",
      "  (31828, 11538)\t1\n",
      "  (31829, 398)\t1\n",
      "  (31829, 6773)\t1\n",
      "  (31829, 10363)\t1\n",
      "  (31829, 10954)\t1\n",
      "  (31829, 11153)\t1\n",
      "  (31829, 11543)\t1\n"
     ]
    }
   ],
   "source": [
    "print(desc_bow)"
   ]
  },
  {
   "cell_type": "code",
   "execution_count": 168,
   "id": "0ebfdd12-3800-4990-ab18-fb9919968933",
   "metadata": {},
   "outputs": [
    {
     "name": "stdout",
     "output_type": "stream",
     "text": [
      "(31830, 11548)\n"
     ]
    }
   ],
   "source": [
    "print(desc_bow.shape) #shape of sparse matrix: 31,830 sku description, 11,548 total vocab"
   ]
  },
  {
   "cell_type": "code",
   "execution_count": 169,
   "id": "fc092435-4250-48e0-87db-cd3e8c3270fd",
   "metadata": {},
   "outputs": [
    {
     "data": {
      "text/plain": [
       "128687"
      ]
     },
     "execution_count": 169,
     "metadata": {},
     "output_type": "execute_result"
    }
   ],
   "source": [
    "desc_bow.nnz"
   ]
  },
  {
   "cell_type": "code",
   "execution_count": 217,
   "id": "0d9c41ba-b533-4ee5-8d4f-7ffd56545b00",
   "metadata": {},
   "outputs": [
    {
     "name": "stdout",
     "output_type": "stream",
     "text": [
      "sparsity: 0.035009931636951194\n"
     ]
    }
   ],
   "source": [
    "##calculates the percentage of non-0 entries\n",
    "sparsity = (100.0 * desc_bow.nnz / (desc_bow.shape[0] * desc_bow.shape[1]))\n",
    "print('sparsity: {}'.format((sparsity)))"
   ]
  },
  {
   "cell_type": "markdown",
   "id": "7f403156-3499-45d4-9c5b-9436b97e9ed3",
   "metadata": {},
   "source": [
    "## Build model"
   ]
  },
  {
   "cell_type": "code",
   "execution_count": 60,
   "id": "f35d3375-72b5-4056-b087-bd2992a74b33",
   "metadata": {},
   "outputs": [],
   "source": [
    "from sklearn.feature_extraction.text import TfidfTransformer"
   ]
  },
  {
   "cell_type": "code",
   "execution_count": 171,
   "id": "4383dac4-41e2-4649-8242-fc9b1d2c301d",
   "metadata": {},
   "outputs": [],
   "source": [
    "tfidf_transformer = TfidfTransformer().fit(desc_bow)"
   ]
  },
  {
   "cell_type": "code",
   "execution_count": 174,
   "id": "82125f13-38a8-4e0b-9d41-3bb2f65f3091",
   "metadata": {},
   "outputs": [],
   "source": [
    "desc_tfidf = tfidf_transformer.transform(desc_bow)"
   ]
  },
  {
   "cell_type": "code",
   "execution_count": 218,
   "id": "5b2f3914-7491-407e-8271-f25cf5b87e82",
   "metadata": {
    "scrolled": true
   },
   "outputs": [
    {
     "name": "stdout",
     "output_type": "stream",
     "text": [
      "  (0, 437)\t0.5369569656662905\n",
      "  (0, 828)\t0.5369569656662905\n",
      "  (0, 2407)\t0.3197780265534686\n",
      "  (0, 5296)\t0.47951476146545663\n",
      "  (0, 8956)\t0.1992753374007726\n",
      "  (0, 9553)\t0.22682896909125988\n",
      "  (1, 1073)\t0.35112385830245335\n",
      "  (1, 5577)\t0.6320629321777651\n",
      "  (1, 7346)\t0.5807141058671602\n",
      "  (1, 9852)\t0.3741384946040024\n",
      "  (2, 1073)\t0.3851099072351374\n",
      "  (2, 5234)\t0.33297846038368184\n",
      "  (2, 7199)\t0.48180002639749697\n",
      "  (2, 7799)\t0.7132211710495054\n",
      "  (3, 2300)\t0.7443717489316507\n",
      "  (3, 10255)\t0.667765452380127\n",
      "  (4, 593)\t0.35062144295104375\n",
      "  (4, 825)\t0.30104111130197875\n",
      "  (4, 3306)\t0.6206455559588643\n",
      "  (4, 3507)\t0.2389831025016575\n",
      "  (4, 6375)\t0.3403951889105008\n",
      "  (4, 8327)\t0.3067972759575599\n",
      "  (4, 10457)\t0.36623977182686945\n",
      "  (5, 593)\t0.3472837177674309\n",
      "  (5, 2434)\t0.2871475380687843\n",
      "  :\t:\n",
      "  (31823, 10171)\t0.5552660229303491\n",
      "  (31824, 674)\t0.5533398179333836\n",
      "  (31824, 11527)\t0.8329556085947498\n",
      "  (31825, 10249)\t0.6829953026064458\n",
      "  (31825, 11533)\t0.7304227656758306\n",
      "  (31826, 2101)\t0.37503609425790146\n",
      "  (31826, 2185)\t0.2592844089842993\n",
      "  (31826, 7846)\t0.24255387318516167\n",
      "  (31826, 10172)\t0.6993241363108738\n",
      "  (31826, 10285)\t0.49419924548441796\n",
      "  (31827, 172)\t0.25844427062586767\n",
      "  (31827, 4599)\t0.469638081448999\n",
      "  (31827, 9646)\t0.45571236173382607\n",
      "  (31827, 10097)\t0.36794773107613765\n",
      "  (31827, 11534)\t0.6079369556068025\n",
      "  (31828, 1019)\t0.37390326481641517\n",
      "  (31828, 7801)\t0.5422510535469427\n",
      "  (31828, 11138)\t0.5216549994144474\n",
      "  (31828, 11538)\t0.5422510535469427\n",
      "  (31829, 398)\t0.3412224862404564\n",
      "  (31829, 6773)\t0.45909640144961833\n",
      "  (31829, 10363)\t0.3696669149320691\n",
      "  (31829, 10954)\t0.33853370499334434\n",
      "  (31829, 11153)\t0.45909640144961833\n",
      "  (31829, 11543)\t0.45909640144961833\n"
     ]
    }
   ],
   "source": [
    "print(desc_tfidf)"
   ]
  },
  {
   "cell_type": "code",
   "execution_count": 156,
   "id": "7a6440ec-7ac7-4523-9c1c-c52046e23ff6",
   "metadata": {},
   "outputs": [],
   "source": [
    "from sklearn.ensemble import RandomForestClassifier"
   ]
  },
  {
   "cell_type": "code",
   "execution_count": 212,
   "id": "8d753596-de36-49c5-b253-3150bf6f62c8",
   "metadata": {},
   "outputs": [],
   "source": [
    "## pass in desc_tfidf as features\n",
    "master_classification_model = RandomForestClassifier().fit(desc_tfidf, train['MasterClassification'])"
   ]
  },
  {
   "cell_type": "markdown",
   "id": "62812ec5-264b-45fb-aa31-67a53f9774db",
   "metadata": {},
   "source": [
    "## Test out the model on individual datapoints"
   ]
  },
  {
   "cell_type": "code",
   "execution_count": 204,
   "id": "0ecc8609-9cd1-4f4b-b43c-cd6e7c58c049",
   "metadata": {},
   "outputs": [],
   "source": [
    "bow2000 = bow_transformer.transform([train['SkuDescription'][2000]])"
   ]
  },
  {
   "cell_type": "code",
   "execution_count": 205,
   "id": "4dd5533b-1c3b-4392-af4d-1a7ba856581e",
   "metadata": {},
   "outputs": [
    {
     "name": "stdout",
     "output_type": "stream",
     "text": [
      "  (0, 2045)\t1\n",
      "  (0, 3095)\t1\n",
      "  (0, 4732)\t1\n",
      "  (0, 6434)\t1\n"
     ]
    }
   ],
   "source": [
    "print(bow2000)"
   ]
  },
  {
   "cell_type": "code",
   "execution_count": 206,
   "id": "0d25f33b-f872-4cb5-9363-bccc4eaf109e",
   "metadata": {},
   "outputs": [],
   "source": [
    "tfidf2000 = tfidf_transformer.transform(bow2000)"
   ]
  },
  {
   "cell_type": "code",
   "execution_count": 213,
   "id": "1029c915-da16-466c-945b-fdb11c2d36b9",
   "metadata": {
    "scrolled": true
   },
   "outputs": [
    {
     "name": "stdout",
     "output_type": "stream",
     "text": [
      "  (0, 2045)\t0.7052029640444519\n",
      "  (0, 3095)\t0.37950381047803455\n",
      "  (0, 4732)\t0.35722966688431607\n",
      "  (0, 6434)\t0.4806793135067206\n"
     ]
    }
   ],
   "source": [
    "## from simple word count => weighted tf-idf scores\n",
    "print(tfidf2000)"
   ]
  },
  {
   "cell_type": "code",
   "execution_count": 209,
   "id": "1f513d27-112b-41be-ab01-a629e1255ea9",
   "metadata": {},
   "outputs": [
    {
     "name": "stdout",
     "output_type": "stream",
     "text": [
      "3095\n"
     ]
    }
   ],
   "source": [
    "print(bow_transformer.vocabulary_['Anesthesia'])"
   ]
  },
  {
   "cell_type": "code",
   "execution_count": 211,
   "id": "dc2278d5-ea27-4cb1-bfa5-fda93229c078",
   "metadata": {},
   "outputs": [
    {
     "data": {
      "text/plain": [
       "5.37174384806591"
      ]
     },
     "execution_count": 211,
     "metadata": {},
     "output_type": "execute_result"
    }
   ],
   "source": [
    "## check the idf of a particular word\n",
    "tfidf_transformer.idf_[bow_transformer.vocabulary_['Anesthesia']]"
   ]
  },
  {
   "cell_type": "code",
   "execution_count": 191,
   "id": "1508082a-e977-46e0-826d-1e46066c4a69",
   "metadata": {},
   "outputs": [
    {
     "data": {
      "text/plain": [
       "'Anesthesia'"
      ]
     },
     "execution_count": 191,
     "metadata": {},
     "output_type": "execute_result"
    }
   ],
   "source": [
    "master_classification_model.predict(tfidf2000)[0]"
   ]
  },
  {
   "cell_type": "code",
   "execution_count": 190,
   "id": "77a31eae-0732-4953-94fb-e9bacd2001fe",
   "metadata": {},
   "outputs": [
    {
     "data": {
      "text/plain": [
       "'Anesthesia'"
      ]
     },
     "execution_count": 190,
     "metadata": {},
     "output_type": "execute_result"
    }
   ],
   "source": [
    "train['MasterClassification'][2000]"
   ]
  },
  {
   "cell_type": "markdown",
   "id": "45d15e92-fda5-4cc3-86db-b51659625c8e",
   "metadata": {},
   "source": [
    "## Pipeline"
   ]
  },
  {
   "cell_type": "code",
   "execution_count": 88,
   "id": "030542b1-b687-4ccc-9c15-7148612a9fce",
   "metadata": {},
   "outputs": [],
   "source": [
    "from sklearn.svm import LinearSVC\n",
    "from sklearn.calibration import CalibratedClassifierCV\n",
    "from sklearn.feature_extraction.text import TfidfVectorizer\n",
    "from sklearn.pipeline import Pipeline"
   ]
  },
  {
   "cell_type": "code",
   "execution_count": 79,
   "id": "592dcd1b-015c-4a55-9eda-d40b02b3ce66",
   "metadata": {},
   "outputs": [],
   "source": [
    "from sklearn.model_selection import train_test_split"
   ]
  },
  {
   "cell_type": "markdown",
   "id": "81081c29-024a-4a70-a7d1-fdb17bcba0ca",
   "metadata": {},
   "source": [
    "# Create pipeline\n",
    "pipeline = Pipeline([\n",
    "    ('tfidf', TfidfVectorizer(max_features=10000)),\n",
    "    ('clf', CalibratedClassifierCV(LinearSVC(dual=False)))\n",
    "])"
   ]
  },
  {
   "cell_type": "markdown",
   "id": "e7ee86ae-c84d-4da8-82e0-d22c548595c6",
   "metadata": {},
   "source": [
    "## Support Vector Machine model\n",
    "### Performs better than Random Forest"
   ]
  },
  {
   "cell_type": "code",
   "execution_count": 238,
   "id": "a76d4e2f-7975-425d-90b5-c506a2d3cd9b",
   "metadata": {},
   "outputs": [],
   "source": [
    "pipeline = Pipeline([\n",
    "    ('bow', CountVectorizer(analyzer=text_process)),\n",
    "     ('tfidf', TfidfTransformer()),\n",
    "     ('classifier', CalibratedClassifierCV(LinearSVC(dual=False)))   \n",
    "     ])\n"
   ]
  },
  {
   "cell_type": "code",
   "execution_count": 229,
   "id": "d5288158-9477-49bc-816c-9a97010325d1",
   "metadata": {},
   "outputs": [],
   "source": [
    "pipeline_RF = Pipeline([\n",
    "    ('bow', CountVectorizer(analyzer=text_process)),\n",
    "     ('tfidf', TfidfTransformer()),\n",
    "     ('classifier', RandomForestClassifier())   \n",
    "     ])\n"
   ]
  },
  {
   "cell_type": "code",
   "execution_count": 126,
   "id": "63b1d4f4-13fe-4570-8697-55acc51eee26",
   "metadata": {},
   "outputs": [],
   "source": [
    "X_train, X_test, y_train, y_test = train_test_split(train['SkuDescription'], train['MasterClassification'], test_size = 0.2)"
   ]
  },
  {
   "cell_type": "code",
   "execution_count": 240,
   "id": "b4d4209a-3a68-4d44-be45-9ecb5e68c703",
   "metadata": {},
   "outputs": [
    {
     "data": {
      "text/html": [
       "<style>#sk-container-id-16 {\n",
       "  /* Definition of color scheme common for light and dark mode */\n",
       "  --sklearn-color-text: #000;\n",
       "  --sklearn-color-text-muted: #666;\n",
       "  --sklearn-color-line: gray;\n",
       "  /* Definition of color scheme for unfitted estimators */\n",
       "  --sklearn-color-unfitted-level-0: #fff5e6;\n",
       "  --sklearn-color-unfitted-level-1: #f6e4d2;\n",
       "  --sklearn-color-unfitted-level-2: #ffe0b3;\n",
       "  --sklearn-color-unfitted-level-3: chocolate;\n",
       "  /* Definition of color scheme for fitted estimators */\n",
       "  --sklearn-color-fitted-level-0: #f0f8ff;\n",
       "  --sklearn-color-fitted-level-1: #d4ebff;\n",
       "  --sklearn-color-fitted-level-2: #b3dbfd;\n",
       "  --sklearn-color-fitted-level-3: cornflowerblue;\n",
       "\n",
       "  /* Specific color for light theme */\n",
       "  --sklearn-color-text-on-default-background: var(--sg-text-color, var(--theme-code-foreground, var(--jp-content-font-color1, black)));\n",
       "  --sklearn-color-background: var(--sg-background-color, var(--theme-background, var(--jp-layout-color0, white)));\n",
       "  --sklearn-color-border-box: var(--sg-text-color, var(--theme-code-foreground, var(--jp-content-font-color1, black)));\n",
       "  --sklearn-color-icon: #696969;\n",
       "\n",
       "  @media (prefers-color-scheme: dark) {\n",
       "    /* Redefinition of color scheme for dark theme */\n",
       "    --sklearn-color-text-on-default-background: var(--sg-text-color, var(--theme-code-foreground, var(--jp-content-font-color1, white)));\n",
       "    --sklearn-color-background: var(--sg-background-color, var(--theme-background, var(--jp-layout-color0, #111)));\n",
       "    --sklearn-color-border-box: var(--sg-text-color, var(--theme-code-foreground, var(--jp-content-font-color1, white)));\n",
       "    --sklearn-color-icon: #878787;\n",
       "  }\n",
       "}\n",
       "\n",
       "#sk-container-id-16 {\n",
       "  color: var(--sklearn-color-text);\n",
       "}\n",
       "\n",
       "#sk-container-id-16 pre {\n",
       "  padding: 0;\n",
       "}\n",
       "\n",
       "#sk-container-id-16 input.sk-hidden--visually {\n",
       "  border: 0;\n",
       "  clip: rect(1px 1px 1px 1px);\n",
       "  clip: rect(1px, 1px, 1px, 1px);\n",
       "  height: 1px;\n",
       "  margin: -1px;\n",
       "  overflow: hidden;\n",
       "  padding: 0;\n",
       "  position: absolute;\n",
       "  width: 1px;\n",
       "}\n",
       "\n",
       "#sk-container-id-16 div.sk-dashed-wrapped {\n",
       "  border: 1px dashed var(--sklearn-color-line);\n",
       "  margin: 0 0.4em 0.5em 0.4em;\n",
       "  box-sizing: border-box;\n",
       "  padding-bottom: 0.4em;\n",
       "  background-color: var(--sklearn-color-background);\n",
       "}\n",
       "\n",
       "#sk-container-id-16 div.sk-container {\n",
       "  /* jupyter's `normalize.less` sets `[hidden] { display: none; }`\n",
       "     but bootstrap.min.css set `[hidden] { display: none !important; }`\n",
       "     so we also need the `!important` here to be able to override the\n",
       "     default hidden behavior on the sphinx rendered scikit-learn.org.\n",
       "     See: https://github.com/scikit-learn/scikit-learn/issues/21755 */\n",
       "  display: inline-block !important;\n",
       "  position: relative;\n",
       "}\n",
       "\n",
       "#sk-container-id-16 div.sk-text-repr-fallback {\n",
       "  display: none;\n",
       "}\n",
       "\n",
       "div.sk-parallel-item,\n",
       "div.sk-serial,\n",
       "div.sk-item {\n",
       "  /* draw centered vertical line to link estimators */\n",
       "  background-image: linear-gradient(var(--sklearn-color-text-on-default-background), var(--sklearn-color-text-on-default-background));\n",
       "  background-size: 2px 100%;\n",
       "  background-repeat: no-repeat;\n",
       "  background-position: center center;\n",
       "}\n",
       "\n",
       "/* Parallel-specific style estimator block */\n",
       "\n",
       "#sk-container-id-16 div.sk-parallel-item::after {\n",
       "  content: \"\";\n",
       "  width: 100%;\n",
       "  border-bottom: 2px solid var(--sklearn-color-text-on-default-background);\n",
       "  flex-grow: 1;\n",
       "}\n",
       "\n",
       "#sk-container-id-16 div.sk-parallel {\n",
       "  display: flex;\n",
       "  align-items: stretch;\n",
       "  justify-content: center;\n",
       "  background-color: var(--sklearn-color-background);\n",
       "  position: relative;\n",
       "}\n",
       "\n",
       "#sk-container-id-16 div.sk-parallel-item {\n",
       "  display: flex;\n",
       "  flex-direction: column;\n",
       "}\n",
       "\n",
       "#sk-container-id-16 div.sk-parallel-item:first-child::after {\n",
       "  align-self: flex-end;\n",
       "  width: 50%;\n",
       "}\n",
       "\n",
       "#sk-container-id-16 div.sk-parallel-item:last-child::after {\n",
       "  align-self: flex-start;\n",
       "  width: 50%;\n",
       "}\n",
       "\n",
       "#sk-container-id-16 div.sk-parallel-item:only-child::after {\n",
       "  width: 0;\n",
       "}\n",
       "\n",
       "/* Serial-specific style estimator block */\n",
       "\n",
       "#sk-container-id-16 div.sk-serial {\n",
       "  display: flex;\n",
       "  flex-direction: column;\n",
       "  align-items: center;\n",
       "  background-color: var(--sklearn-color-background);\n",
       "  padding-right: 1em;\n",
       "  padding-left: 1em;\n",
       "}\n",
       "\n",
       "\n",
       "/* Toggleable style: style used for estimator/Pipeline/ColumnTransformer box that is\n",
       "clickable and can be expanded/collapsed.\n",
       "- Pipeline and ColumnTransformer use this feature and define the default style\n",
       "- Estimators will overwrite some part of the style using the `sk-estimator` class\n",
       "*/\n",
       "\n",
       "/* Pipeline and ColumnTransformer style (default) */\n",
       "\n",
       "#sk-container-id-16 div.sk-toggleable {\n",
       "  /* Default theme specific background. It is overwritten whether we have a\n",
       "  specific estimator or a Pipeline/ColumnTransformer */\n",
       "  background-color: var(--sklearn-color-background);\n",
       "}\n",
       "\n",
       "/* Toggleable label */\n",
       "#sk-container-id-16 label.sk-toggleable__label {\n",
       "  cursor: pointer;\n",
       "  display: flex;\n",
       "  width: 100%;\n",
       "  margin-bottom: 0;\n",
       "  padding: 0.5em;\n",
       "  box-sizing: border-box;\n",
       "  text-align: center;\n",
       "  align-items: start;\n",
       "  justify-content: space-between;\n",
       "  gap: 0.5em;\n",
       "}\n",
       "\n",
       "#sk-container-id-16 label.sk-toggleable__label .caption {\n",
       "  font-size: 0.6rem;\n",
       "  font-weight: lighter;\n",
       "  color: var(--sklearn-color-text-muted);\n",
       "}\n",
       "\n",
       "#sk-container-id-16 label.sk-toggleable__label-arrow:before {\n",
       "  /* Arrow on the left of the label */\n",
       "  content: \"▸\";\n",
       "  float: left;\n",
       "  margin-right: 0.25em;\n",
       "  color: var(--sklearn-color-icon);\n",
       "}\n",
       "\n",
       "#sk-container-id-16 label.sk-toggleable__label-arrow:hover:before {\n",
       "  color: var(--sklearn-color-text);\n",
       "}\n",
       "\n",
       "/* Toggleable content - dropdown */\n",
       "\n",
       "#sk-container-id-16 div.sk-toggleable__content {\n",
       "  max-height: 0;\n",
       "  max-width: 0;\n",
       "  overflow: hidden;\n",
       "  text-align: left;\n",
       "  /* unfitted */\n",
       "  background-color: var(--sklearn-color-unfitted-level-0);\n",
       "}\n",
       "\n",
       "#sk-container-id-16 div.sk-toggleable__content.fitted {\n",
       "  /* fitted */\n",
       "  background-color: var(--sklearn-color-fitted-level-0);\n",
       "}\n",
       "\n",
       "#sk-container-id-16 div.sk-toggleable__content pre {\n",
       "  margin: 0.2em;\n",
       "  border-radius: 0.25em;\n",
       "  color: var(--sklearn-color-text);\n",
       "  /* unfitted */\n",
       "  background-color: var(--sklearn-color-unfitted-level-0);\n",
       "}\n",
       "\n",
       "#sk-container-id-16 div.sk-toggleable__content.fitted pre {\n",
       "  /* unfitted */\n",
       "  background-color: var(--sklearn-color-fitted-level-0);\n",
       "}\n",
       "\n",
       "#sk-container-id-16 input.sk-toggleable__control:checked~div.sk-toggleable__content {\n",
       "  /* Expand drop-down */\n",
       "  max-height: 200px;\n",
       "  max-width: 100%;\n",
       "  overflow: auto;\n",
       "}\n",
       "\n",
       "#sk-container-id-16 input.sk-toggleable__control:checked~label.sk-toggleable__label-arrow:before {\n",
       "  content: \"▾\";\n",
       "}\n",
       "\n",
       "/* Pipeline/ColumnTransformer-specific style */\n",
       "\n",
       "#sk-container-id-16 div.sk-label input.sk-toggleable__control:checked~label.sk-toggleable__label {\n",
       "  color: var(--sklearn-color-text);\n",
       "  background-color: var(--sklearn-color-unfitted-level-2);\n",
       "}\n",
       "\n",
       "#sk-container-id-16 div.sk-label.fitted input.sk-toggleable__control:checked~label.sk-toggleable__label {\n",
       "  background-color: var(--sklearn-color-fitted-level-2);\n",
       "}\n",
       "\n",
       "/* Estimator-specific style */\n",
       "\n",
       "/* Colorize estimator box */\n",
       "#sk-container-id-16 div.sk-estimator input.sk-toggleable__control:checked~label.sk-toggleable__label {\n",
       "  /* unfitted */\n",
       "  background-color: var(--sklearn-color-unfitted-level-2);\n",
       "}\n",
       "\n",
       "#sk-container-id-16 div.sk-estimator.fitted input.sk-toggleable__control:checked~label.sk-toggleable__label {\n",
       "  /* fitted */\n",
       "  background-color: var(--sklearn-color-fitted-level-2);\n",
       "}\n",
       "\n",
       "#sk-container-id-16 div.sk-label label.sk-toggleable__label,\n",
       "#sk-container-id-16 div.sk-label label {\n",
       "  /* The background is the default theme color */\n",
       "  color: var(--sklearn-color-text-on-default-background);\n",
       "}\n",
       "\n",
       "/* On hover, darken the color of the background */\n",
       "#sk-container-id-16 div.sk-label:hover label.sk-toggleable__label {\n",
       "  color: var(--sklearn-color-text);\n",
       "  background-color: var(--sklearn-color-unfitted-level-2);\n",
       "}\n",
       "\n",
       "/* Label box, darken color on hover, fitted */\n",
       "#sk-container-id-16 div.sk-label.fitted:hover label.sk-toggleable__label.fitted {\n",
       "  color: var(--sklearn-color-text);\n",
       "  background-color: var(--sklearn-color-fitted-level-2);\n",
       "}\n",
       "\n",
       "/* Estimator label */\n",
       "\n",
       "#sk-container-id-16 div.sk-label label {\n",
       "  font-family: monospace;\n",
       "  font-weight: bold;\n",
       "  display: inline-block;\n",
       "  line-height: 1.2em;\n",
       "}\n",
       "\n",
       "#sk-container-id-16 div.sk-label-container {\n",
       "  text-align: center;\n",
       "}\n",
       "\n",
       "/* Estimator-specific */\n",
       "#sk-container-id-16 div.sk-estimator {\n",
       "  font-family: monospace;\n",
       "  border: 1px dotted var(--sklearn-color-border-box);\n",
       "  border-radius: 0.25em;\n",
       "  box-sizing: border-box;\n",
       "  margin-bottom: 0.5em;\n",
       "  /* unfitted */\n",
       "  background-color: var(--sklearn-color-unfitted-level-0);\n",
       "}\n",
       "\n",
       "#sk-container-id-16 div.sk-estimator.fitted {\n",
       "  /* fitted */\n",
       "  background-color: var(--sklearn-color-fitted-level-0);\n",
       "}\n",
       "\n",
       "/* on hover */\n",
       "#sk-container-id-16 div.sk-estimator:hover {\n",
       "  /* unfitted */\n",
       "  background-color: var(--sklearn-color-unfitted-level-2);\n",
       "}\n",
       "\n",
       "#sk-container-id-16 div.sk-estimator.fitted:hover {\n",
       "  /* fitted */\n",
       "  background-color: var(--sklearn-color-fitted-level-2);\n",
       "}\n",
       "\n",
       "/* Specification for estimator info (e.g. \"i\" and \"?\") */\n",
       "\n",
       "/* Common style for \"i\" and \"?\" */\n",
       "\n",
       ".sk-estimator-doc-link,\n",
       "a:link.sk-estimator-doc-link,\n",
       "a:visited.sk-estimator-doc-link {\n",
       "  float: right;\n",
       "  font-size: smaller;\n",
       "  line-height: 1em;\n",
       "  font-family: monospace;\n",
       "  background-color: var(--sklearn-color-background);\n",
       "  border-radius: 1em;\n",
       "  height: 1em;\n",
       "  width: 1em;\n",
       "  text-decoration: none !important;\n",
       "  margin-left: 0.5em;\n",
       "  text-align: center;\n",
       "  /* unfitted */\n",
       "  border: var(--sklearn-color-unfitted-level-1) 1pt solid;\n",
       "  color: var(--sklearn-color-unfitted-level-1);\n",
       "}\n",
       "\n",
       ".sk-estimator-doc-link.fitted,\n",
       "a:link.sk-estimator-doc-link.fitted,\n",
       "a:visited.sk-estimator-doc-link.fitted {\n",
       "  /* fitted */\n",
       "  border: var(--sklearn-color-fitted-level-1) 1pt solid;\n",
       "  color: var(--sklearn-color-fitted-level-1);\n",
       "}\n",
       "\n",
       "/* On hover */\n",
       "div.sk-estimator:hover .sk-estimator-doc-link:hover,\n",
       ".sk-estimator-doc-link:hover,\n",
       "div.sk-label-container:hover .sk-estimator-doc-link:hover,\n",
       ".sk-estimator-doc-link:hover {\n",
       "  /* unfitted */\n",
       "  background-color: var(--sklearn-color-unfitted-level-3);\n",
       "  color: var(--sklearn-color-background);\n",
       "  text-decoration: none;\n",
       "}\n",
       "\n",
       "div.sk-estimator.fitted:hover .sk-estimator-doc-link.fitted:hover,\n",
       ".sk-estimator-doc-link.fitted:hover,\n",
       "div.sk-label-container:hover .sk-estimator-doc-link.fitted:hover,\n",
       ".sk-estimator-doc-link.fitted:hover {\n",
       "  /* fitted */\n",
       "  background-color: var(--sklearn-color-fitted-level-3);\n",
       "  color: var(--sklearn-color-background);\n",
       "  text-decoration: none;\n",
       "}\n",
       "\n",
       "/* Span, style for the box shown on hovering the info icon */\n",
       ".sk-estimator-doc-link span {\n",
       "  display: none;\n",
       "  z-index: 9999;\n",
       "  position: relative;\n",
       "  font-weight: normal;\n",
       "  right: .2ex;\n",
       "  padding: .5ex;\n",
       "  margin: .5ex;\n",
       "  width: min-content;\n",
       "  min-width: 20ex;\n",
       "  max-width: 50ex;\n",
       "  color: var(--sklearn-color-text);\n",
       "  box-shadow: 2pt 2pt 4pt #999;\n",
       "  /* unfitted */\n",
       "  background: var(--sklearn-color-unfitted-level-0);\n",
       "  border: .5pt solid var(--sklearn-color-unfitted-level-3);\n",
       "}\n",
       "\n",
       ".sk-estimator-doc-link.fitted span {\n",
       "  /* fitted */\n",
       "  background: var(--sklearn-color-fitted-level-0);\n",
       "  border: var(--sklearn-color-fitted-level-3);\n",
       "}\n",
       "\n",
       ".sk-estimator-doc-link:hover span {\n",
       "  display: block;\n",
       "}\n",
       "\n",
       "/* \"?\"-specific style due to the `<a>` HTML tag */\n",
       "\n",
       "#sk-container-id-16 a.estimator_doc_link {\n",
       "  float: right;\n",
       "  font-size: 1rem;\n",
       "  line-height: 1em;\n",
       "  font-family: monospace;\n",
       "  background-color: var(--sklearn-color-background);\n",
       "  border-radius: 1rem;\n",
       "  height: 1rem;\n",
       "  width: 1rem;\n",
       "  text-decoration: none;\n",
       "  /* unfitted */\n",
       "  color: var(--sklearn-color-unfitted-level-1);\n",
       "  border: var(--sklearn-color-unfitted-level-1) 1pt solid;\n",
       "}\n",
       "\n",
       "#sk-container-id-16 a.estimator_doc_link.fitted {\n",
       "  /* fitted */\n",
       "  border: var(--sklearn-color-fitted-level-1) 1pt solid;\n",
       "  color: var(--sklearn-color-fitted-level-1);\n",
       "}\n",
       "\n",
       "/* On hover */\n",
       "#sk-container-id-16 a.estimator_doc_link:hover {\n",
       "  /* unfitted */\n",
       "  background-color: var(--sklearn-color-unfitted-level-3);\n",
       "  color: var(--sklearn-color-background);\n",
       "  text-decoration: none;\n",
       "}\n",
       "\n",
       "#sk-container-id-16 a.estimator_doc_link.fitted:hover {\n",
       "  /* fitted */\n",
       "  background-color: var(--sklearn-color-fitted-level-3);\n",
       "}\n",
       "</style><div id=\"sk-container-id-16\" class=\"sk-top-container\"><div class=\"sk-text-repr-fallback\"><pre>Pipeline(steps=[(&#x27;bow&#x27;,\n",
       "                 CountVectorizer(analyzer=&lt;function text_process at 0x000002A4BEAB1440&gt;)),\n",
       "                (&#x27;tfidf&#x27;, TfidfTransformer()),\n",
       "                (&#x27;classifier&#x27;,\n",
       "                 CalibratedClassifierCV(estimator=LinearSVC(dual=False)))])</pre><b>In a Jupyter environment, please rerun this cell to show the HTML representation or trust the notebook. <br />On GitHub, the HTML representation is unable to render, please try loading this page with nbviewer.org.</b></div><div class=\"sk-container\" hidden><div class=\"sk-item sk-dashed-wrapped\"><div class=\"sk-label-container\"><div class=\"sk-label fitted sk-toggleable\"><input class=\"sk-toggleable__control sk-hidden--visually\" id=\"sk-estimator-id-79\" type=\"checkbox\" ><label for=\"sk-estimator-id-79\" class=\"sk-toggleable__label fitted sk-toggleable__label-arrow\"><div><div>Pipeline</div></div><div><a class=\"sk-estimator-doc-link fitted\" rel=\"noreferrer\" target=\"_blank\" href=\"https://scikit-learn.org/1.6/modules/generated/sklearn.pipeline.Pipeline.html\">?<span>Documentation for Pipeline</span></a><span class=\"sk-estimator-doc-link fitted\">i<span>Fitted</span></span></div></label><div class=\"sk-toggleable__content fitted\"><pre>Pipeline(steps=[(&#x27;bow&#x27;,\n",
       "                 CountVectorizer(analyzer=&lt;function text_process at 0x000002A4BEAB1440&gt;)),\n",
       "                (&#x27;tfidf&#x27;, TfidfTransformer()),\n",
       "                (&#x27;classifier&#x27;,\n",
       "                 CalibratedClassifierCV(estimator=LinearSVC(dual=False)))])</pre></div> </div></div><div class=\"sk-serial\"><div class=\"sk-item\"><div class=\"sk-estimator fitted sk-toggleable\"><input class=\"sk-toggleable__control sk-hidden--visually\" id=\"sk-estimator-id-80\" type=\"checkbox\" ><label for=\"sk-estimator-id-80\" class=\"sk-toggleable__label fitted sk-toggleable__label-arrow\"><div><div>CountVectorizer</div></div><div><a class=\"sk-estimator-doc-link fitted\" rel=\"noreferrer\" target=\"_blank\" href=\"https://scikit-learn.org/1.6/modules/generated/sklearn.feature_extraction.text.CountVectorizer.html\">?<span>Documentation for CountVectorizer</span></a></div></label><div class=\"sk-toggleable__content fitted\"><pre>CountVectorizer(analyzer=&lt;function text_process at 0x000002A4BEAB1440&gt;)</pre></div> </div></div><div class=\"sk-item\"><div class=\"sk-estimator fitted sk-toggleable\"><input class=\"sk-toggleable__control sk-hidden--visually\" id=\"sk-estimator-id-81\" type=\"checkbox\" ><label for=\"sk-estimator-id-81\" class=\"sk-toggleable__label fitted sk-toggleable__label-arrow\"><div><div>TfidfTransformer</div></div><div><a class=\"sk-estimator-doc-link fitted\" rel=\"noreferrer\" target=\"_blank\" href=\"https://scikit-learn.org/1.6/modules/generated/sklearn.feature_extraction.text.TfidfTransformer.html\">?<span>Documentation for TfidfTransformer</span></a></div></label><div class=\"sk-toggleable__content fitted\"><pre>TfidfTransformer()</pre></div> </div></div><div class=\"sk-item sk-dashed-wrapped\"><div class=\"sk-label-container\"><div class=\"sk-label fitted sk-toggleable\"><input class=\"sk-toggleable__control sk-hidden--visually\" id=\"sk-estimator-id-82\" type=\"checkbox\" ><label for=\"sk-estimator-id-82\" class=\"sk-toggleable__label fitted sk-toggleable__label-arrow\"><div><div>classifier: CalibratedClassifierCV</div></div><div><a class=\"sk-estimator-doc-link fitted\" rel=\"noreferrer\" target=\"_blank\" href=\"https://scikit-learn.org/1.6/modules/generated/sklearn.calibration.CalibratedClassifierCV.html\">?<span>Documentation for classifier: CalibratedClassifierCV</span></a></div></label><div class=\"sk-toggleable__content fitted\"><pre>CalibratedClassifierCV(estimator=LinearSVC(dual=False))</pre></div> </div></div><div class=\"sk-parallel\"><div class=\"sk-parallel-item\"><div class=\"sk-item\"><div class=\"sk-label-container\"><div class=\"sk-label fitted sk-toggleable\"><input class=\"sk-toggleable__control sk-hidden--visually\" id=\"sk-estimator-id-83\" type=\"checkbox\" ><label for=\"sk-estimator-id-83\" class=\"sk-toggleable__label fitted sk-toggleable__label-arrow\"><div><div>estimator: LinearSVC</div></div></label><div class=\"sk-toggleable__content fitted\"><pre>LinearSVC(dual=False)</pre></div> </div></div><div class=\"sk-serial\"><div class=\"sk-item\"><div class=\"sk-estimator fitted sk-toggleable\"><input class=\"sk-toggleable__control sk-hidden--visually\" id=\"sk-estimator-id-84\" type=\"checkbox\" ><label for=\"sk-estimator-id-84\" class=\"sk-toggleable__label fitted sk-toggleable__label-arrow\"><div><div>LinearSVC</div></div><div><a class=\"sk-estimator-doc-link fitted\" rel=\"noreferrer\" target=\"_blank\" href=\"https://scikit-learn.org/1.6/modules/generated/sklearn.svm.LinearSVC.html\">?<span>Documentation for LinearSVC</span></a></div></label><div class=\"sk-toggleable__content fitted\"><pre>LinearSVC(dual=False)</pre></div> </div></div></div></div></div></div></div></div></div></div></div>"
      ],
      "text/plain": [
       "Pipeline(steps=[('bow',\n",
       "                 CountVectorizer(analyzer=<function text_process at 0x000002A4BEAB1440>)),\n",
       "                ('tfidf', TfidfTransformer()),\n",
       "                ('classifier',\n",
       "                 CalibratedClassifierCV(estimator=LinearSVC(dual=False)))])"
      ]
     },
     "execution_count": 240,
     "metadata": {},
     "output_type": "execute_result"
    }
   ],
   "source": [
    "pipeline.fit(X_train, y_train)"
   ]
  },
  {
   "cell_type": "code",
   "execution_count": 241,
   "id": "ffb51aad-4263-4451-a3dd-b7605afbe14a",
   "metadata": {},
   "outputs": [],
   "source": [
    "# Predict\n",
    "predictions = pipeline.predict(X_test)"
   ]
  },
  {
   "cell_type": "code",
   "execution_count": 242,
   "id": "99e501c5-fb72-4f68-b804-d07ddeb919f8",
   "metadata": {},
   "outputs": [],
   "source": [
    "probability_scores = pipeline.predict_proba(X_test)"
   ]
  },
  {
   "cell_type": "code",
   "execution_count": 247,
   "id": "085028bb-dab9-48cc-bf39-736acb264f94",
   "metadata": {},
   "outputs": [
    {
     "name": "stdout",
     "output_type": "stream",
     "text": [
      "                         precision    recall  f1-score   support\n",
      "\n",
      "             Anesthesia       0.90      0.86      0.88       188\n",
      "      Boarding-Grooming       0.96      0.95      0.95       180\n",
      "              Cremation       0.93      0.92      0.93       102\n",
      "              Dentistry       0.97      0.95      0.96       189\n",
      "             Euthanasia       0.95      0.86      0.90        63\n",
      "                   Exam       0.88      0.90      0.89       284\n",
      "              Farm Call       1.00      0.71      0.83         7\n",
      "                   Food       0.92      0.89      0.91        27\n",
      "        Hospitalization       0.90      0.96      0.93       151\n",
      "              Injection       0.93      0.94      0.93       378\n",
      "                    Lab       0.44      0.55      0.49       229\n",
      "             Lab-Inside       0.76      0.70      0.73       239\n",
      "            Lab-Outside       0.80      0.82      0.81       393\n",
      "          Medical-Waste       0.97      0.94      0.95        32\n",
      "             Medication       0.96      0.93      0.94       423\n",
      "                    OTC       0.82      0.75      0.78        12\n",
      "           Preventative       0.99      0.99      0.99      2330\n",
      "              Procedure       0.85      0.80      0.82       128\n",
      "              Radiology       0.92      0.90      0.91       238\n",
      "            Spay-Neuter       0.99      0.95      0.97       130\n",
      "                Surgery       0.86      0.82      0.84       124\n",
      "     Ultrasound-Imaging       0.82      0.70      0.75        33\n",
      "            Unspecified       0.77      0.43      0.56        23\n",
      "                Vaccine       0.97      0.98      0.97       448\n",
      "Well Plans and Packages       0.77      0.67      0.71        15\n",
      "\n",
      "               accuracy                           0.92      6366\n",
      "              macro avg       0.88      0.84      0.85      6366\n",
      "           weighted avg       0.92      0.92      0.92      6366\n",
      "\n"
     ]
    }
   ],
   "source": [
    "from sklearn.metrics import classification_report, confusion_matrix\n",
    "\n",
    "# Overall metrics\n",
    "print(classification_report(y_test, predictions))\n",
    "\n",
    "# Detailed per-class view\n",
    "conf_matrix = confusion_matrix(y_test, predictions)"
   ]
  },
  {
   "cell_type": "code",
   "execution_count": null,
   "id": "4613605f-130b-477c-b74a-a6317aa11afc",
   "metadata": {},
   "outputs": [],
   "source": []
  },
  {
   "cell_type": "code",
   "execution_count": null,
   "id": "159ecbe6-c6aa-4207-91a7-a3bbb6bba090",
   "metadata": {},
   "outputs": [],
   "source": []
  },
  {
   "cell_type": "code",
   "execution_count": null,
   "id": "775a57aa-196e-4717-83b3-5121e65d65df",
   "metadata": {},
   "outputs": [],
   "source": []
  },
  {
   "cell_type": "code",
   "execution_count": null,
   "id": "d49bb00c-9b8a-48a0-9906-adf9779918ab",
   "metadata": {},
   "outputs": [],
   "source": []
  },
  {
   "cell_type": "code",
   "execution_count": null,
   "id": "ce728183-c69e-4f77-83a3-80175e19ccef",
   "metadata": {},
   "outputs": [],
   "source": []
  }
 ],
 "metadata": {
  "kernelspec": {
   "display_name": "Python 3 (ipykernel)",
   "language": "python",
   "name": "python3"
  },
  "language_info": {
   "codemirror_mode": {
    "name": "ipython",
    "version": 3
   },
   "file_extension": ".py",
   "mimetype": "text/x-python",
   "name": "python",
   "nbconvert_exporter": "python",
   "pygments_lexer": "ipython3",
   "version": "3.11.11"
  }
 },
 "nbformat": 4,
 "nbformat_minor": 5
}
