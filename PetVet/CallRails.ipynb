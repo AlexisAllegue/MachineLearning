{
 "cells": [
  {
   "cell_type": "markdown",
   "id": "a597d32f",
   "metadata": {},
   "source": [
    "chunk_size = 10000\n",
    "for chunk in pd.read_json('Call-Rails-2025-01-23.json', lines =True, chunksize=chunk_size):\n",
    "    data = [tuple(row) for row in chunk.to_numpy()]"
   ]
  },
  {
   "cell_type": "code",
   "execution_count": null,
   "id": "0a40863d",
   "metadata": {},
   "outputs": [],
   "source": [
    "record = data[0]"
   ]
  },
  {
   "cell_type": "code",
   "execution_count": null,
   "id": "9551503c",
   "metadata": {},
   "outputs": [],
   "source": [
    "record_list = list(record)"
   ]
  },
  {
   "cell_type": "code",
   "execution_count": null,
   "id": "5e976025",
   "metadata": {},
   "outputs": [],
   "source": [
    "# Move 'pk' to 'fields'\n",
    "for item in record_list:\n",
    "    item['fields']['pk'] = item['pk']\n",
    "    del item['pk']"
   ]
  },
  {
   "cell_type": "code",
   "execution_count": null,
   "id": "1bbd7aa5",
   "metadata": {},
   "outputs": [],
   "source": [
    "import pyodbc\n",
    "from datetime import datetime\n",
    "def drop_create_insert_sql_tables(conn_str, schema_name, data_list_name):\n",
    "    conn = pyodbc.connect(conn_str)\n",
    "    cursor= conn.cursor()\n",
    "\n",
    "    # Get the fields from the first tracker\n",
    "    fields = data_list_name[0]['fields']\n",
    "    field_names = fields.keys()\n",
    "    date_stamp = datetime.now().strftime(\"%Y%m%d\")\n",
    "    table_name = f\"{data_list_name[0]['model'].split('.')[-1]}_{date_stamp}\"\n",
    "    \n",
    "\n",
    "\n",
    "    # Drop table if exists\n",
    "    truncate_query = f\"Drop Table if exists {schema_name}.{table_name}\"\n",
    "    cursor.execute(truncate_query)\n",
    "    conn.commit()\n",
    "\n",
    "    # Create table dynamically\n",
    "    create_table_query = f\"CREATE TABLE {schema_name}.{table_name} (\"\n",
    "    for field in field_names:\n",
    "        if isinstance(fields[field], int):\n",
    "            create_table_query += f\"{field} INT, \"\n",
    "        elif isinstance(fields[field], bool):\n",
    "            create_table_query += f\"{field} BIT, \"\n",
    "        else:\n",
    "            create_table_query += f\"{field} VARCHAR(MAX), \"\n",
    "        \n",
    "    create_table_query = create_table_query.rstrip(\", \") + \")\"\n",
    "    cursor.execute(create_table_query)\n",
    "    conn.commit()\n",
    "\n",
    "\n",
    "\n",
    "    # Insert data dynamically\n",
    "    insert_query = f\"INSERT INTO {schema_name}.{table_name} ({', '.join(field_names)}) VALUES ({', '.join(['?' for _ in field_names])})\"\n",
    "\n",
    "    for tracker in data_list_name:\n",
    "        fields = tracker['fields']\n",
    "        values = tuple(fields[field] for field in field_names)\n",
    "        cursor.execute(insert_query, values)\n",
    "    conn.commit()\n",
    "    "
   ]
  },
  {
   "cell_type": "code",
   "execution_count": null,
   "id": "a79a6416",
   "metadata": {},
   "outputs": [],
   "source": [
    "# Define table names as a set\n",
    "table_names_wo_schema = set()\n",
    "\n",
    "for item in record_list:\n",
    "    table_names_wo_schema.add(item['model'].split('.')[-1])"
   ]
  },
  {
   "cell_type": "code",
   "execution_count": null,
   "id": "3ea266e0",
   "metadata": {},
   "outputs": [],
   "source": [
    "# Initialize a dictionary to store lists for each table\n",
    "tables = {table_name_wo_schema: [] for table_name_wo_schema in table_names_wo_schema}\n",
    "\n",
    "# Iterate through the record list\n",
    "for item in record_list:\n",
    "    table_name_wo_schema = item['model'].split('.')[-1]\n",
    "    if table_name_wo_schema in tables:\n",
    "        tables[table_name_wo_schema].append(item)\n",
    "        \n",
    "# Access the lists for each table dynamically\n",
    "for table_name_wo_schema in table_names_wo_schema:\n",
    "    globals()[table_name_wo_schema] = tables[table_name_wo_schema]\n",
    "# Close the connection\n",
    "cursor.close()\n",
    "conn.close()"
   ]
  },
  {
   "cell_type": "code",
   "execution_count": null,
   "id": "bc2df864",
   "metadata": {},
   "outputs": [],
   "source": [
    "server = 'DB06.petvetcarecenters.com' \n",
    "database = 'ReportingPV' \n",
    "username = 'PetVet_RW' \n",
    "password = 'p3tv3tc@r3c3nt3rs'  \n",
    "con_str = 'DRIVER={SQL Server};SERVER='+server+';DATABASE='+database+';UID='+username+';PWD='+ password\n",
    "schema_name = \"callrails\"\n",
    "for table_name_wo_schema in table_names_wo_schema:\n",
    "    drop_create_insert_sql_tables(con_str, schema_name, globals()[table_name_wo_schema])"
   ]
  },
  {
   "cell_type": "markdown",
   "id": "55aef907",
   "metadata": {},
   "source": [
    "source = []\n",
    "for item in record_list:\n",
    "    if item['model'].split('.')[-1] == \"source\":\n",
    "        source.append(item)"
   ]
  },
  {
   "cell_type": "markdown",
   "id": "b7fbfc71",
   "metadata": {},
   "source": [
    "callrecord = []\n",
    "for item in record_list:\n",
    "    if item['model'].split('.')[-1]=='callrecord':\n",
    "        callrecord.append(item)\n"
   ]
  },
  {
   "cell_type": "markdown",
   "id": "b62b8bf1",
   "metadata": {},
   "source": [
    "server = 'DB06.petvetcarecenters.com' \n",
    "database = 'ReportingPV' \n",
    "username = 'PetVet_RW' \n",
    "password = 'p3tv3tc@r3c3nt3rs'  \n",
    "cnxn = pyodbc.connect('DRIVER={SQL Server};SERVER='+server+';DATABASE='+database+';UID='+username+';PWD='+ password)\n",
    "cursor = cnxn.cursor()\n",
    "\n",
    "\n",
    "# Get the fields from the first tracker\n",
    "fields = trackers[0]['fields']\n",
    "field_names = fields.keys()\n",
    "table_name = trackers[0]['model'].split('.')[-1]\n",
    "\n",
    "\n",
    "# Drop table if exists\n",
    "table_name = trackers[0]['model'].split('.')[-1]\n",
    "truncate_query = f\"Drop Table if exists callrails.{table_name}\"\n",
    "cursor.execute(truncate_query)\n",
    "cnxn.commit()\n",
    "\n",
    "# Create table dynamically\n",
    "create_table_query = f\"CREATE TABLE callrails.{table_name} (\"\n",
    "for field in field_names:\n",
    "    if isinstance(fields[field], int):\n",
    "        create_table_query += f\"{field} INT, \"\n",
    "    elif isinstance(fields[field], bool):\n",
    "        create_table_query += f\"{field} BIT, \"\n",
    "    else:\n",
    "        create_table_query += f\"{field} VARCHAR(MAX), \"\n",
    "create_table_query = create_table_query.rstrip(\", \") + \")\"\n",
    "print(create_table_query)\n",
    "cursor.execute(create_table_query)\n",
    "cnxn.commit()\n",
    "\n",
    "# Insert data dynamically\n",
    "insert_query = f\"INSERT INTO callrails.{table_name} ({', '.join(field_names)}) VALUES ({', '.join(['?' for _ in field_names])})\"\n",
    "\n",
    "for tracker in trackers:\n",
    "    fields = tracker['fields']\n",
    "    values = tuple(fields[field] for field in field_names)\n",
    "    cursor.execute(insert_query, values)\n",
    "cnxn.commit()\n",
    "# print(insert_query)\n"
   ]
  },
  {
   "cell_type": "code",
   "execution_count": 2,
   "id": "39a55d17",
   "metadata": {},
   "outputs": [
    {
     "ename": "NameError",
     "evalue": "name 'cursor' is not defined",
     "output_type": "error",
     "traceback": [
      "\u001b[1;31m---------------------------------------------------------------------------\u001b[0m",
      "\u001b[1;31mNameError\u001b[0m                                 Traceback (most recent call last)",
      "\u001b[1;32m~\\AppData\\Local\\Temp/ipykernel_16852/599818798.py\u001b[0m in \u001b[0;36m<module>\u001b[1;34m\u001b[0m\n\u001b[0;32m      2\u001b[0m \u001b[1;31m# cnxn.commit()  # Commit the transaction\u001b[0m\u001b[1;33m\u001b[0m\u001b[1;33m\u001b[0m\u001b[0m\n\u001b[0;32m      3\u001b[0m \u001b[1;31m# Close the connection\u001b[0m\u001b[1;33m\u001b[0m\u001b[1;33m\u001b[0m\u001b[0m\n\u001b[1;32m----> 4\u001b[1;33m \u001b[0mcursor\u001b[0m\u001b[1;33m.\u001b[0m\u001b[0mclose\u001b[0m\u001b[1;33m(\u001b[0m\u001b[1;33m)\u001b[0m\u001b[1;33m\u001b[0m\u001b[1;33m\u001b[0m\u001b[0m\n\u001b[0m\u001b[0;32m      5\u001b[0m \u001b[0mconn\u001b[0m\u001b[1;33m.\u001b[0m\u001b[0mclose\u001b[0m\u001b[1;33m(\u001b[0m\u001b[1;33m)\u001b[0m\u001b[1;33m\u001b[0m\u001b[1;33m\u001b[0m\u001b[0m\n",
      "\u001b[1;31mNameError\u001b[0m: name 'cursor' is not defined"
     ]
    }
   ],
   "source": [
    "# cursor.executemany(insert_query, data_to_insert_test)\n",
    "# cnxn.commit()  # Commit the transaction\n",
    "# Close the connection\n",
    "cursor.close()\n",
    "conn.close()"
   ]
  }
 ],
 "metadata": {
  "kernelspec": {
   "display_name": "Python 3 (ipykernel)",
   "language": "python",
   "name": "python3"
  },
  "language_info": {
   "codemirror_mode": {
    "name": "ipython",
    "version": 3
   },
   "file_extension": ".py",
   "mimetype": "text/x-python",
   "name": "python",
   "nbconvert_exporter": "python",
   "pygments_lexer": "ipython3",
   "version": "3.11.11"
  }
 },
 "nbformat": 4,
 "nbformat_minor": 5
}
