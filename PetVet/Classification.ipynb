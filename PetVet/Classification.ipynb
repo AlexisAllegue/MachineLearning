{
 "cells": [
  {
   "cell_type": "code",
   "execution_count": 109,
   "id": "b74c562c-65f3-4a12-9712-c10f13d1ce3f",
   "metadata": {},
   "outputs": [],
   "source": [
    "import pandas as pd\n",
    "import numpy as np\n",
    "import matplotlib.pyplot as plt\n",
    "import seaborn as sns\n",
    "from sqlalchemy.engine import URL\n",
    "from sqlalchemy import create_engine\n",
    "import pyodbc\n",
    "%matplotlib inline\n",
    "import pandas as pd\n",
    "import numpy as np\n",
    "from sklearn.feature_extraction.text import TfidfVectorizer\n",
    "from sklearn.linear_model import LogisticRegression\n",
    "from sklearn.pipeline import Pipeline\n",
    "from sklearn.model_selection import train_test_split, GridSearchCV\n",
    "from sklearn.metrics import classification_report, confusion_matrix\n",
    "import matplotlib.pyplot as plt\n",
    "import seaborn as sns"
   ]
  },
  {
   "cell_type": "code",
   "execution_count": 110,
   "id": "a83e2baa-d1f3-49c9-a483-8e44ded873d7",
   "metadata": {},
   "outputs": [],
   "source": [
    "server = 'DB06.petvetcarecenters.com' \n",
    "database = 'ReportingPV' \n",
    "username = 'PetVet_RW' \n",
    "password = 'p3tv3tc@r3c3nt3rs'  \n",
    "cnxn = pyodbc.connect('DRIVER={SQL Server};SERVER='+server+';DATABASE='+database+';UID='+username+';PWD='+ password)\n",
    "cursor = cnxn.cursor()"
   ]
  },
  {
   "cell_type": "code",
   "execution_count": 111,
   "id": "e085f5b3-4b5d-46b2-9477-40045613587f",
   "metadata": {},
   "outputs": [
    {
     "name": "stderr",
     "output_type": "stream",
     "text": [
      "C:\\Users\\qallegue\\AppData\\Local\\Temp\\ipykernel_26172\\452100367.py:88: UserWarning: pandas only supports SQLAlchemy connectable (engine/connection) or database string URI or sqlite3 DBAPI2 connection. Other DBAPI2 objects are not tested. Please consider using SQLAlchemy.\n",
      "  df = pd.read_sql(query, conn)\n"
     ]
    }
   ],
   "source": [
    "server = 'DB04.petvetcarecenters.com' \n",
    "database = 'DWPV' \n",
    "username = 'PetVet_RW' \n",
    "password = 'p3tv3tc@r3c3nt3rs'  \n",
    "conn_str = (\n",
    "    'DRIVER={SQL Server};'\n",
    "    f'SERVER={server};'\n",
    "    f'DATABASE={database};'\n",
    "    f'UID={username};'\n",
    "    f'PWD={password}'\n",
    ")\n",
    "# Establish the connection\n",
    "conn = pyodbc.connect(conn_str)\n",
    "query = \"\"\"\n",
    "SELECT DISTINCT\n",
    "       li.Sku,\n",
    "       li.SkuDescription,\n",
    "       s.UnitOfMeasure,\n",
    "       li.Quantity,\n",
    "       li.NetRevenue,\n",
    "       s.IsTaxable,\n",
    "       li.Name,\n",
    "       li.Species,\n",
    "       li.Breed,\n",
    "       li.Location_ID,\n",
    "       s.MappingValue AS MasterClassification,\n",
    "       ld.Location,\n",
    "       ld.Location_Type,\n",
    "       ld.Location_Name,\n",
    "       ld.Location_Group,\n",
    "       ld.Address_Line_1,\n",
    "       ld.Address_Line_2,\n",
    "       ld.City,\n",
    "       ld.State,\n",
    "       ld.Zip,\n",
    "       ld.Acq_Date,\n",
    "       ld.SqFt,\n",
    "       ld.Closed,\n",
    "       ld.PMS,\n",
    "       ld.Region,\n",
    "       ld.RegionalManager\n",
    "--INTO #temp\n",
    "FROM\n",
    "(\n",
    "    SELECT DISTINCT\n",
    "           l.Location_ID,\n",
    "           l.ClientID,\n",
    "           l.PatientID,\n",
    "           l.Sku,\n",
    "           l.SkuDescription,\n",
    "           --l.SkuUnitOfMeasure,\n",
    "           l.Quantity,\n",
    "           l.NetRevenue,\n",
    "           p.Name,\n",
    "           p.Species,\n",
    "           p.Breed\n",
    "    --p.Gender\n",
    "    FROM Staging.LineItem l\n",
    "        LEFT JOIN Staging.Patient p\n",
    "            ON p.PatientID = l.PatientID\n",
    "               AND p.Location_ID = l.Location_ID\n",
    "               AND p.ClientID = l.ClientID\n",
    ") li\n",
    "    JOIN\n",
    "    (\n",
    "        SELECT DISTINCT\n",
    "               s.Location_ID,\n",
    "               s.Sku,\n",
    "               cm.Name MappingValue,\n",
    "               s.UnitOfMeasure,\n",
    "               s.IsTaxable\n",
    "        FROM Accounting.SkuV2 s\n",
    "            LEFT JOIN Configuration.SkuMapping m\n",
    "                ON m.Location_ID = s.Location_ID\n",
    "                   AND m.Sku = s.Sku\n",
    "            LEFT JOIN Reference.DropdownList c\n",
    "                ON c.DropdownListId = m.DropDownListId\n",
    "            LEFT JOIN Reference.DropdownListMember cm\n",
    "                ON m.DropdownListMemberId = cm.DropdownListMemberId\n",
    "        WHERE m.DropDownListId = 8\n",
    "    ) s\n",
    "        ON s.Location_ID = li.Location_ID\n",
    "           AND s.Sku = li.Sku\n",
    "    JOIN dbo.Location_Details ld\n",
    "        ON ld.Location_ID = s.Location_ID\n",
    "\"\"\"\n",
    "# Execute the query and load the data into a DataFrame\n",
    "df = pd.read_sql(query, conn)\n",
    "\n",
    "\n",
    "# Close the connection\n",
    "conn.close()\n"
   ]
  },
  {
   "cell_type": "code",
   "execution_count": 85,
   "id": "61c76c6d-f643-4e8e-b81e-1dfe0189ec98",
   "metadata": {},
   "outputs": [],
   "source": [
    "train = df"
   ]
  },
  {
   "cell_type": "code",
   "execution_count": 86,
   "id": "23874a41-4d3c-43ed-9baa-84bc5ab23b87",
   "metadata": {},
   "outputs": [
    {
     "data": {
      "text/html": [
       "<div>\n",
       "<style scoped>\n",
       "    .dataframe tbody tr th:only-of-type {\n",
       "        vertical-align: middle;\n",
       "    }\n",
       "\n",
       "    .dataframe tbody tr th {\n",
       "        vertical-align: top;\n",
       "    }\n",
       "\n",
       "    .dataframe thead th {\n",
       "        text-align: right;\n",
       "    }\n",
       "</style>\n",
       "<table border=\"1\" class=\"dataframe\">\n",
       "  <thead>\n",
       "    <tr style=\"text-align: right;\">\n",
       "      <th></th>\n",
       "      <th>Sku</th>\n",
       "      <th>SkuDescription</th>\n",
       "      <th>UnitOfMeasure</th>\n",
       "      <th>Quantity</th>\n",
       "      <th>NetRevenue</th>\n",
       "      <th>IsTaxable</th>\n",
       "      <th>Name</th>\n",
       "      <th>Species</th>\n",
       "      <th>Breed</th>\n",
       "      <th>Location_ID</th>\n",
       "      <th>...</th>\n",
       "      <th>Address_Line_2</th>\n",
       "      <th>City</th>\n",
       "      <th>State</th>\n",
       "      <th>Zip</th>\n",
       "      <th>Acq_Date</th>\n",
       "      <th>SqFt</th>\n",
       "      <th>Closed</th>\n",
       "      <th>PMS</th>\n",
       "      <th>Region</th>\n",
       "      <th>RegionalManager</th>\n",
       "    </tr>\n",
       "  </thead>\n",
       "  <tbody>\n",
       "    <tr>\n",
       "      <th>0</th>\n",
       "      <td>#CON2</td>\n",
       "      <td>Convenia Injectable- 11-20 lbs</td>\n",
       "      <td></td>\n",
       "      <td>1.0</td>\n",
       "      <td>93.0</td>\n",
       "      <td>None</td>\n",
       "      <td>Ferrari</td>\n",
       "      <td>Feline</td>\n",
       "      <td>Domestic Shorthair</td>\n",
       "      <td>262</td>\n",
       "      <td>...</td>\n",
       "      <td>None</td>\n",
       "      <td>Bedford Hills</td>\n",
       "      <td>NY</td>\n",
       "      <td>10507</td>\n",
       "      <td>2020-06-05</td>\n",
       "      <td>2400.0</td>\n",
       "      <td>0</td>\n",
       "      <td>Avimark</td>\n",
       "      <td>North East</td>\n",
       "      <td>Rough, Jennifer</td>\n",
       "    </tr>\n",
       "    <tr>\n",
       "      <th>1</th>\n",
       "      <td>*SA705*</td>\n",
       "      <td>XXX Antech Senior Feline 7 + Years</td>\n",
       "      <td></td>\n",
       "      <td>-1.0</td>\n",
       "      <td>-123.5</td>\n",
       "      <td>None</td>\n",
       "      <td>Bliss</td>\n",
       "      <td>Feline</td>\n",
       "      <td>DOMESTIC LONG HAIR</td>\n",
       "      <td>228</td>\n",
       "      <td>...</td>\n",
       "      <td>None</td>\n",
       "      <td>Tumwater</td>\n",
       "      <td>WA</td>\n",
       "      <td>98512</td>\n",
       "      <td>2019-09-13</td>\n",
       "      <td>7560.0</td>\n",
       "      <td>0</td>\n",
       "      <td>Avimark</td>\n",
       "      <td>West</td>\n",
       "      <td>Hesketh, Ryan</td>\n",
       "    </tr>\n",
       "    <tr>\n",
       "      <th>2</th>\n",
       "      <td>*SA705*</td>\n",
       "      <td>XXX Antech Senior Feline 7 + Years</td>\n",
       "      <td></td>\n",
       "      <td>1.0</td>\n",
       "      <td>0.0</td>\n",
       "      <td>None</td>\n",
       "      <td>Ash</td>\n",
       "      <td>Feline</td>\n",
       "      <td>Russian Blue Mix</td>\n",
       "      <td>228</td>\n",
       "      <td>...</td>\n",
       "      <td>None</td>\n",
       "      <td>Tumwater</td>\n",
       "      <td>WA</td>\n",
       "      <td>98512</td>\n",
       "      <td>2019-09-13</td>\n",
       "      <td>7560.0</td>\n",
       "      <td>0</td>\n",
       "      <td>Avimark</td>\n",
       "      <td>West</td>\n",
       "      <td>Hesketh, Ryan</td>\n",
       "    </tr>\n",
       "    <tr>\n",
       "      <th>3</th>\n",
       "      <td>*SA705*</td>\n",
       "      <td>XXX Antech Senior Feline 7 + Years</td>\n",
       "      <td></td>\n",
       "      <td>1.0</td>\n",
       "      <td>123.5</td>\n",
       "      <td>None</td>\n",
       "      <td>Bliss</td>\n",
       "      <td>Feline</td>\n",
       "      <td>DOMESTIC LONG HAIR</td>\n",
       "      <td>228</td>\n",
       "      <td>...</td>\n",
       "      <td>None</td>\n",
       "      <td>Tumwater</td>\n",
       "      <td>WA</td>\n",
       "      <td>98512</td>\n",
       "      <td>2019-09-13</td>\n",
       "      <td>7560.0</td>\n",
       "      <td>0</td>\n",
       "      <td>Avimark</td>\n",
       "      <td>West</td>\n",
       "      <td>Hesketh, Ryan</td>\n",
       "    </tr>\n",
       "    <tr>\n",
       "      <th>4</th>\n",
       "      <td>*SA705*</td>\n",
       "      <td>XXX Antech Senior Feline 7 + Years</td>\n",
       "      <td></td>\n",
       "      <td>1.0</td>\n",
       "      <td>247.0</td>\n",
       "      <td>None</td>\n",
       "      <td>Chopin</td>\n",
       "      <td>Feline</td>\n",
       "      <td>Dmh</td>\n",
       "      <td>228</td>\n",
       "      <td>...</td>\n",
       "      <td>None</td>\n",
       "      <td>Tumwater</td>\n",
       "      <td>WA</td>\n",
       "      <td>98512</td>\n",
       "      <td>2019-09-13</td>\n",
       "      <td>7560.0</td>\n",
       "      <td>0</td>\n",
       "      <td>Avimark</td>\n",
       "      <td>West</td>\n",
       "      <td>Hesketh, Ryan</td>\n",
       "    </tr>\n",
       "  </tbody>\n",
       "</table>\n",
       "<p>5 rows × 26 columns</p>\n",
       "</div>"
      ],
      "text/plain": [
       "       Sku                      SkuDescription UnitOfMeasure  Quantity  \\\n",
       "0    #CON2      Convenia Injectable- 11-20 lbs                     1.0   \n",
       "1  *SA705*  XXX Antech Senior Feline 7 + Years                    -1.0   \n",
       "2  *SA705*  XXX Antech Senior Feline 7 + Years                     1.0   \n",
       "3  *SA705*  XXX Antech Senior Feline 7 + Years                     1.0   \n",
       "4  *SA705*  XXX Antech Senior Feline 7 + Years                     1.0   \n",
       "\n",
       "   NetRevenue IsTaxable     Name Species               Breed  Location_ID  \\\n",
       "0        93.0      None  Ferrari  Feline  Domestic Shorthair          262   \n",
       "1      -123.5      None    Bliss  Feline  DOMESTIC LONG HAIR          228   \n",
       "2         0.0      None      Ash  Feline    Russian Blue Mix          228   \n",
       "3       123.5      None    Bliss  Feline  DOMESTIC LONG HAIR          228   \n",
       "4       247.0      None   Chopin  Feline                 Dmh          228   \n",
       "\n",
       "   ... Address_Line_2           City State    Zip   Acq_Date    SqFt Closed  \\\n",
       "0  ...           None  Bedford Hills    NY  10507 2020-06-05  2400.0      0   \n",
       "1  ...           None       Tumwater    WA  98512 2019-09-13  7560.0      0   \n",
       "2  ...           None       Tumwater    WA  98512 2019-09-13  7560.0      0   \n",
       "3  ...           None       Tumwater    WA  98512 2019-09-13  7560.0      0   \n",
       "4  ...           None       Tumwater    WA  98512 2019-09-13  7560.0      0   \n",
       "\n",
       "       PMS      Region  RegionalManager  \n",
       "0  Avimark  North East  Rough, Jennifer  \n",
       "1  Avimark        West    Hesketh, Ryan  \n",
       "2  Avimark        West    Hesketh, Ryan  \n",
       "3  Avimark        West    Hesketh, Ryan  \n",
       "4  Avimark        West    Hesketh, Ryan  \n",
       "\n",
       "[5 rows x 26 columns]"
      ]
     },
     "execution_count": 86,
     "metadata": {},
     "output_type": "execute_result"
    }
   ],
   "source": [
    "train.head()"
   ]
  },
  {
   "cell_type": "code",
   "execution_count": 98,
   "id": "c3ef8b82-eae7-4496-a55f-5b148936e7a9",
   "metadata": {},
   "outputs": [
    {
     "data": {
      "text/plain": [
       "<Axes: >"
      ]
     },
     "execution_count": 98,
     "metadata": {},
     "output_type": "execute_result"
    },
    {
     "data": {
      "image/png": "[encoded data removed]",
      "text/plain": [
       "<Figure size 640x480 with 1 Axes>"
      ]
     },
     "metadata": {},
     "output_type": "display_data"
    }
   ],
   "source": [
    "##handle missing data\n",
    "sns.heatmap(train.isnull(), yticklabels = False, cbar = False, cmap = \"viridis\")"
   ]
  },
  {
   "cell_type": "code",
   "execution_count": 87,
   "id": "e1f9c161-f86c-43fa-b20a-37e3c407085a",
   "metadata": {
    "scrolled": true
   },
   "outputs": [],
   "source": [
    "train.drop('Address_Line_2', axis = 1, inplace = True)"
   ]
  },
  {
   "cell_type": "code",
   "execution_count": 88,
   "id": "d8627c4c-7901-4700-b3f7-6c8954675834",
   "metadata": {},
   "outputs": [
    {
     "name": "stderr",
     "output_type": "stream",
     "text": [
      "C:\\Users\\qallegue\\AppData\\Local\\Temp\\ipykernel_26172\\2626915640.py:1: FutureWarning: A value is trying to be set on a copy of a DataFrame or Series through chained assignment using an inplace method.\n",
      "The behavior will change in pandas 3.0. This inplace method will never work because the intermediate object on which we are setting values always behaves as a copy.\n",
      "\n",
      "For example, when doing 'df[col].method(value, inplace=True)', try using 'df.method({col: value}, inplace=True)' or df[col] = df[col].method(value) instead, to perform the operation inplace on the original object.\n",
      "\n",
      "\n",
      "  train['IsTaxable'].fillna(0, inplace = True)\n",
      "C:\\Users\\qallegue\\AppData\\Local\\Temp\\ipykernel_26172\\2626915640.py:1: FutureWarning: Downcasting object dtype arrays on .fillna, .ffill, .bfill is deprecated and will change in a future version. Call result.infer_objects(copy=False) instead. To opt-in to the future behavior, set `pd.set_option('future.no_silent_downcasting', True)`\n",
      "  train['IsTaxable'].fillna(0, inplace = True)\n"
     ]
    }
   ],
   "source": [
    "train['IsTaxable'].fillna(0, inplace = True)"
   ]
  },
  {
   "cell_type": "code",
   "execution_count": 89,
   "id": "5b592795-8bac-4ec5-80f9-9110bdb67d6b",
   "metadata": {},
   "outputs": [
    {
     "data": {
      "text/plain": [
       "<Axes: xlabel='Location_Type', ylabel='SqFt'>"
      ]
     },
     "execution_count": 89,
     "metadata": {},
     "output_type": "execute_result"
    },
    {
     "data": {
      "image/png": "[encoded data removed]",
      "text/plain": [
       "<Figure size 1000x700 with 1 Axes>"
      ]
     },
     "metadata": {},
     "output_type": "display_data"
    }
   ],
   "source": [
    "## Analyse relationship between SqFt and Location_Type\n",
    "plt.figure(figsize=(10,7))\n",
    "sns.boxplot(x = 'Location_Type', y = 'SqFt', data = train)"
   ]
  },
  {
   "cell_type": "code",
   "execution_count": 95,
   "id": "0e086ffe-60d5-473e-97c5-3fcd2ea9e101",
   "metadata": {},
   "outputs": [],
   "source": [
    "# Fill null values in 'SqFt' column with the mean value based on 'Location_Type'\n",
    "df['SqFt'] = df.groupby('Location_Type')['SqFt'].transform(lambda x: x.fillna(x.mean())) # Approximate null SqFt with average by Location_Type"
   ]
  },
  {
   "cell_type": "code",
   "execution_count": 93,
   "id": "92445cbd-16c2-446d-8489-ac157471a0e5",
   "metadata": {},
   "outputs": [],
   "source": [
    "train.dropna(subset=['SkuDescription'], inplace= True) # Prefiction relies on SkuDescription"
   ]
  },
  {
   "cell_type": "code",
   "execution_count": 92,
   "id": "9170e323-f52a-4739-b190-2c2e91ca982c",
   "metadata": {},
   "outputs": [],
   "source": [
    "train.dropna(subset=['Region'], inplace = True) ## All locs without region or regional manager assigned are closed"
   ]
  },
  {
   "cell_type": "code",
   "execution_count": 97,
   "id": "582ecf1c-92f5-471a-95d6-a17b967d5740",
   "metadata": {},
   "outputs": [
    {
     "name": "stderr",
     "output_type": "stream",
     "text": [
      "C:\\Users\\qallegue\\AppData\\Local\\Temp\\ipykernel_26172\\1367987782.py:1: FutureWarning: A value is trying to be set on a copy of a DataFrame or Series through chained assignment using an inplace method.\n",
      "The behavior will change in pandas 3.0. This inplace method will never work because the intermediate object on which we are setting values always behaves as a copy.\n",
      "\n",
      "For example, when doing 'df[col].method(value, inplace=True)', try using 'df.method({col: value}, inplace=True)' or df[col] = df[col].method(value) instead, to perform the operation inplace on the original object.\n",
      "\n",
      "\n",
      "  df['Species'].fillna('Unknown', inplace=True)\n",
      "C:\\Users\\qallegue\\AppData\\Local\\Temp\\ipykernel_26172\\1367987782.py:2: FutureWarning: A value is trying to be set on a copy of a DataFrame or Series through chained assignment using an inplace method.\n",
      "The behavior will change in pandas 3.0. This inplace method will never work because the intermediate object on which we are setting values always behaves as a copy.\n",
      "\n",
      "For example, when doing 'df[col].method(value, inplace=True)', try using 'df.method({col: value}, inplace=True)' or df[col] = df[col].method(value) instead, to perform the operation inplace on the original object.\n",
      "\n",
      "\n",
      "  df['Breed'].fillna('Unknown', inplace=True)\n",
      "C:\\Users\\qallegue\\AppData\\Local\\Temp\\ipykernel_26172\\1367987782.py:3: FutureWarning: A value is trying to be set on a copy of a DataFrame or Series through chained assignment using an inplace method.\n",
      "The behavior will change in pandas 3.0. This inplace method will never work because the intermediate object on which we are setting values always behaves as a copy.\n",
      "\n",
      "For example, when doing 'df[col].method(value, inplace=True)', try using 'df.method({col: value}, inplace=True)' or df[col] = df[col].method(value) instead, to perform the operation inplace on the original object.\n",
      "\n",
      "\n",
      "  df['Name'].fillna('Unknown', inplace=True)\n"
     ]
    }
   ],
   "source": [
    "## Create new category 'Unknown' for patient info \n",
    "df['Species'].fillna('Unknown', inplace=True)\n",
    "df['Breed'].fillna('Unknown', inplace=True)\n",
    "df['Name'].fillna('Unknown', inplace=True)"
   ]
  },
  {
   "cell_type": "code",
   "execution_count": 99,
   "id": "16017f93-34ce-4b19-844a-b7032dafd1aa",
   "metadata": {},
   "outputs": [
    {
     "data": {
      "text/plain": [
       "<Axes: >"
      ]
     },
     "execution_count": 99,
     "metadata": {},
     "output_type": "execute_result"
    },
    {
     "data": {
      "image/png": "[encoded data removed]",
      "text/plain": [
       "<Figure size 640x480 with 1 Axes>"
      ]
     },
     "metadata": {},
     "output_type": "display_data"
    }
   ],
   "source": [
    "## No more missing data\n",
    "sns.heatmap(train.isnull(), yticklabels = False, cbar = False, cmap = \"viridis\")"
   ]
  },
  {
   "cell_type": "code",
   "execution_count": 100,
   "id": "c0e01500-6745-4e66-bc35-67995c14b0e5",
   "metadata": {},
   "outputs": [
    {
     "name": "stdout",
     "output_type": "stream",
     "text": [
      "Collecting nltk\n",
      "  Downloading nltk-3.9.1-py3-none-any.whl.metadata (2.9 kB)\n",
      "Requirement already satisfied: click in c:\\users\\qallegue\\anaconda3\\envs\\llms\\lib\\site-packages (from nltk) (8.1.8)\n",
      "Requirement already satisfied: joblib in c:\\users\\qallegue\\anaconda3\\envs\\llms\\lib\\site-packages (from nltk) (1.4.2)\n",
      "Requirement already satisfied: regex>=2021.8.3 in c:\\users\\qallegue\\anaconda3\\envs\\llms\\lib\\site-packages (from nltk) (2024.11.6)\n",
      "Requirement already satisfied: tqdm in c:\\users\\qallegue\\anaconda3\\envs\\llms\\lib\\site-packages (from nltk) (4.67.1)\n",
      "Requirement already satisfied: colorama in c:\\users\\qallegue\\anaconda3\\envs\\llms\\lib\\site-packages (from click->nltk) (0.4.6)\n",
      "Downloading nltk-3.9.1-py3-none-any.whl (1.5 MB)\n",
      "   ---------------------------------------- 0.0/1.5 MB ? eta -:--:--\n",
      "   ---------------------------------------- 1.5/1.5 MB 11.3 MB/s eta 0:00:00\n",
      "Installing collected packages: nltk\n",
      "Successfully installed nltk-3.9.1\n",
      "Note: you may need to restart the kernel to use updated packages.\n"
     ]
    }
   ],
   "source": [
    "pip install nltk"
   ]
  },
  {
   "cell_type": "code",
   "execution_count": 101,
   "id": "d463b441-6f84-4626-b141-9cb719907ea4",
   "metadata": {},
   "outputs": [],
   "source": [
    "import nltk"
   ]
  },
  {
   "cell_type": "code",
   "execution_count": 103,
   "id": "a42de6aa-8c13-422b-ba1a-7caefb2de0db",
   "metadata": {},
   "outputs": [
    {
     "name": "stdout",
     "output_type": "stream",
     "text": [
      "NLTK Downloader\n",
      "---------------------------------------------------------------------------\n",
      "    d) Download   l) List    u) Update   c) Config   h) Help   q) Quit\n",
      "---------------------------------------------------------------------------\n"
     ]
    },
    {
     "name": "stdin",
     "output_type": "stream",
     "text": [
      "Downloader>  Download\n"
     ]
    },
    {
     "name": "stdout",
     "output_type": "stream",
     "text": [
      "Command 'Download' unrecognized\n",
      "\n",
      "---------------------------------------------------------------------------\n",
      "    d) Download   l) List    u) Update   c) Config   h) Help   q) Quit\n",
      "---------------------------------------------------------------------------\n"
     ]
    },
    {
     "name": "stdin",
     "output_type": "stream",
     "text": [
      "Downloader>  stopwords\n"
     ]
    },
    {
     "name": "stdout",
     "output_type": "stream",
     "text": [
      "Command 'stopwords' unrecognized\n",
      "\n",
      "---------------------------------------------------------------------------\n",
      "    d) Download   l) List    u) Update   c) Config   h) Help   q) Quit\n",
      "---------------------------------------------------------------------------\n"
     ]
    },
    {
     "name": "stdin",
     "output_type": "stream",
     "text": [
      "Downloader>  d\n"
     ]
    },
    {
     "name": "stdout",
     "output_type": "stream",
     "text": [
      "\n",
      "Download which package (l=list; x=cancel)?\n"
     ]
    },
    {
     "name": "stdin",
     "output_type": "stream",
     "text": [
      "  Identifier>  stopwords\n"
     ]
    },
    {
     "name": "stderr",
     "output_type": "stream",
     "text": [
      "    Downloading package stopwords to\n",
      "        C:\\Users\\qallegue\\AppData\\Roaming\\nltk_data...\n",
      "      Unzipping corpora\\stopwords.zip.\n"
     ]
    },
    {
     "name": "stdout",
     "output_type": "stream",
     "text": [
      "\n",
      "---------------------------------------------------------------------------\n",
      "    d) Download   l) List    u) Update   c) Config   h) Help   q) Quit\n",
      "---------------------------------------------------------------------------\n"
     ]
    },
    {
     "name": "stdin",
     "output_type": "stream",
     "text": [
      "Downloader>  d\n"
     ]
    },
    {
     "name": "stdout",
     "output_type": "stream",
     "text": [
      "\n",
      "Download which package (l=list; x=cancel)?\n"
     ]
    },
    {
     "name": "stdin",
     "output_type": "stream",
     "text": [
      "  Identifier>  l\n"
     ]
    },
    {
     "name": "stdout",
     "output_type": "stream",
     "text": [
      "Packages:\n",
      "  [ ] abc................. Australian Broadcasting Commission 2006\n",
      "  [ ] alpino.............. Alpino Dutch Treebank\n",
      "  [ ] averaged_perceptron_tagger Averaged Perceptron Tagger\n",
      "  [ ] averaged_perceptron_tagger_eng Averaged Perceptron Tagger (JSON)\n",
      "  [ ] averaged_perceptron_tagger_ru Averaged Perceptron Tagger (Russian)\n",
      "  [ ] averaged_perceptron_tagger_rus Averaged Perceptron Tagger (Russian)\n",
      "  [ ] basque_grammars..... Grammars for Basque\n",
      "  [ ] bcp47............... BCP-47 Language Tags\n",
      "  [ ] biocreative_ppi..... BioCreAtIvE (Critical Assessment of Information\n",
      "                           Extraction Systems in Biology)\n",
      "  [ ] bllip_wsj_no_aux.... BLLIP Parser: WSJ Model\n",
      "  [ ] book_grammars....... Grammars from NLTK Book\n",
      "  [ ] brown............... Brown Corpus\n",
      "  [ ] brown_tei........... Brown Corpus (TEI XML Version)\n",
      "  [ ] cess_cat............ CESS-CAT Treebank\n",
      "  [ ] cess_esp............ CESS-ESP Treebank\n",
      "  [ ] chat80.............. Chat-80 Data Files\n",
      "  [ ] city_database....... City Database\n",
      "  [ ] cmudict............. The Carnegie Mellon Pronouncing Dictionary (0.6)\n",
      "  [ ] comparative_sentences Comparative Sentence Dataset\n"
     ]
    },
    {
     "name": "stdin",
     "output_type": "stream",
     "text": [
      "Hit Enter to continue:  q\n"
     ]
    },
    {
     "name": "stdout",
     "output_type": "stream",
     "text": [
      "\n",
      "Download which package (l=list; x=cancel)?\n"
     ]
    },
    {
     "name": "stdin",
     "output_type": "stream",
     "text": [
      "  Identifier>  stopwords\n"
     ]
    },
    {
     "name": "stderr",
     "output_type": "stream",
     "text": [
      "    Downloading package stopwords to\n",
      "        C:\\Users\\qallegue\\AppData\\Roaming\\nltk_data...\n",
      "      Package stopwords is already up-to-date!\n"
     ]
    },
    {
     "name": "stdout",
     "output_type": "stream",
     "text": [
      "\n",
      "---------------------------------------------------------------------------\n",
      "    d) Download   l) List    u) Update   c) Config   h) Help   q) Quit\n",
      "---------------------------------------------------------------------------\n"
     ]
    },
    {
     "name": "stdin",
     "output_type": "stream",
     "text": [
      "Downloader>  q\n"
     ]
    }
   ],
   "source": [
    "nltk.download_shell()"
   ]
  },
  {
   "cell_type": "code",
   "execution_count": 105,
   "id": "5e3798dd-bb01-4f90-ba3f-f62fe39c75ce",
   "metadata": {},
   "outputs": [],
   "source": [
    "desc = [line.strip() for line in train['SkuDescription']]"
   ]
  },
  {
   "cell_type": "code",
   "execution_count": 108,
   "id": "3ba23d70-a6a0-4191-980e-becb01ed29e9",
   "metadata": {},
   "outputs": [
    {
     "name": "stdout",
     "output_type": "stream",
     "text": [
      "0 Convenia Injectable- 11-20 lbs\n",
      "\n",
      "\n",
      "1 XXX Antech Senior Feline 7 + Years\n",
      "\n",
      "\n",
      "2 XXX Antech Senior Feline 7 + Years\n",
      "\n",
      "\n",
      "3 XXX Antech Senior Feline 7 + Years\n",
      "\n",
      "\n",
      "4 XXX Antech Senior Feline 7 + Years\n",
      "\n",
      "\n",
      "5 XXX Antech Senior Feline 7 + Years\n",
      "\n",
      "\n",
      "6 XXX Antech Senior Feline 7 + Years\n",
      "\n",
      "\n",
      "7 XXX Antech Senior Feline 7 + Years\n",
      "\n",
      "\n",
      "8 XXX Antech Senior Feline 7 + Years\n",
      "\n",
      "\n",
      "9 Doxycycline 100mg Tablets\n",
      "\n",
      "\n"
     ]
    }
   ],
   "source": [
    "for desc_no, desc in enumerate(desc[:10]):\n",
    "    print(desc_no, desc)\n",
    "    print('\\n')"
   ]
  },
  {
   "cell_type": "code",
   "execution_count": null,
   "id": "dc464576-e001-4602-916b-fe8fb5161d65",
   "metadata": {},
   "outputs": [],
   "source": []
  },
  {
   "cell_type": "code",
   "execution_count": null,
   "id": "1c255595-b77a-48dc-8580-878888fdb0b8",
   "metadata": {},
   "outputs": [],
   "source": []
  }
 ],
 "metadata": {
  "kernelspec": {
   "display_name": "Python 3 (ipykernel)",
   "language": "python",
   "name": "python3"
  },
  "language_info": {
   "codemirror_mode": {
    "name": "ipython",
    "version": 3
   },
   "file_extension": ".py",
   "mimetype": "text/x-python",
   "name": "python",
   "nbconvert_exporter": "python",
   "pygments_lexer": "ipython3",
   "version": "3.11.11"
  }
 },
 "nbformat": 4,
 "nbformat_minor": 5
}
